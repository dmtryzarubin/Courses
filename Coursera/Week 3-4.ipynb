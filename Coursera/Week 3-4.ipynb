{
 "cells": [
  {
   "cell_type": "markdown",
   "metadata": {},
   "source": [
    "# [Week 3 Log_reg](https://www.coursera.org/learn/vvedenie-mashinnoe-obuchenie/programming/MptFX/loghistichieskaia-rieghriessiia)"
   ]
  },
  {
   "cell_type": "code",
   "execution_count": 74,
   "metadata": {},
   "outputs": [],
   "source": [
    "import numpy as np\n",
    "import pandas as pd\n",
    "from sklearn.metrics import roc_auc_score"
   ]
  },
  {
   "cell_type": "markdown",
   "metadata": {},
   "source": [
    "### 1) Загрузите данные из файла data-logistic.csv. "
   ]
  },
  {
   "cell_type": "code",
   "execution_count": 4,
   "metadata": {},
   "outputs": [],
   "source": [
    "data = pd.read_csv('data-logistic.csv', header = None)"
   ]
  },
  {
   "cell_type": "code",
   "execution_count": 5,
   "metadata": {},
   "outputs": [
    {
     "output_type": "execute_result",
     "data": {
      "text/plain": "   0         1         2\n0 -1 -0.663827 -0.138526\n1  1  1.994596  2.468025\n2 -1 -1.247395  0.749425\n3  1  2.309374  1.899836\n4  1  0.849143  2.407750",
      "text/html": "<div>\n<style scoped>\n    .dataframe tbody tr th:only-of-type {\n        vertical-align: middle;\n    }\n\n    .dataframe tbody tr th {\n        vertical-align: top;\n    }\n\n    .dataframe thead th {\n        text-align: right;\n    }\n</style>\n<table border=\"1\" class=\"dataframe\">\n  <thead>\n    <tr style=\"text-align: right;\">\n      <th></th>\n      <th>0</th>\n      <th>1</th>\n      <th>2</th>\n    </tr>\n  </thead>\n  <tbody>\n    <tr>\n      <th>0</th>\n      <td>-1</td>\n      <td>-0.663827</td>\n      <td>-0.138526</td>\n    </tr>\n    <tr>\n      <th>1</th>\n      <td>1</td>\n      <td>1.994596</td>\n      <td>2.468025</td>\n    </tr>\n    <tr>\n      <th>2</th>\n      <td>-1</td>\n      <td>-1.247395</td>\n      <td>0.749425</td>\n    </tr>\n    <tr>\n      <th>3</th>\n      <td>1</td>\n      <td>2.309374</td>\n      <td>1.899836</td>\n    </tr>\n    <tr>\n      <th>4</th>\n      <td>1</td>\n      <td>0.849143</td>\n      <td>2.407750</td>\n    </tr>\n  </tbody>\n</table>\n</div>"
     },
     "metadata": {},
     "execution_count": 5
    }
   ],
   "source": [
    "data.head()"
   ]
  },
  {
   "cell_type": "code",
   "execution_count": 60,
   "metadata": {},
   "outputs": [],
   "source": [
    "X = data.values[:, 1:]\n",
    "y = data.values[:,0]"
   ]
  },
  {
   "cell_type": "markdown",
   "metadata": {},
   "source": [
    "### 2) Реализуйте градиентный спуск для обычной и L2-регуляризованной (с коэффициентом регуляризации 10) логистической регрессии. Используйте длину шага k=0.1. В качестве начального приближения используйте вектор (0, 0)."
   ]
  },
  {
   "cell_type": "code",
   "execution_count": 89,
   "metadata": {},
   "outputs": [],
   "source": [
    "def sigmoid(x):\n",
    "    return 1.0 / (1.0 + np.exp(-x))\n",
    "def log_regression(X, y, k, w, C, epsilon, max_iter):\n",
    "    for i in range(max_iter):\n",
    "        wnew = w + k * np.mean((X.T * y) * (1 - sigmoid(y * np.dot(X, w))), axis=1) - k * C* w\n",
    "        if np.sqrt(np.sum(np.square(wnew-w))) < epsilon:\n",
    "            print (i)\n",
    "            break\n",
    "        w = wnew\n",
    "\n",
    "    predictions = sigmoid(np.dot(X, w))\n",
    "    return predictions"
   ]
  },
  {
   "cell_type": "code",
   "execution_count": 90,
   "metadata": {},
   "outputs": [],
   "source": [
    "weights = np.array([0.0,0.0])"
   ]
  },
  {
   "cell_type": "code",
   "execution_count": 91,
   "metadata": {
    "tags": []
   },
   "outputs": [
    {
     "output_type": "stream",
     "name": "stdout",
     "text": "243\n"
    }
   ],
   "source": [
    "preds1 = log_regression(X, y, k = 0.1, w = weights, C = 0.0, epsilon = 1e-5, max_iter = 10000)"
   ]
  },
  {
   "cell_type": "markdown",
   "metadata": {},
   "source": [
    "### 3) Какое значение принимает AUC-ROC на обучении без регуляризации и при ее использовании?"
   ]
  },
  {
   "cell_type": "code",
   "execution_count": 95,
   "metadata": {
    "tags": []
   },
   "outputs": [
    {
     "output_type": "stream",
     "name": "stdout",
     "text": "0.927\n"
    }
   ],
   "source": [
    "print(round(roc_auc_score(y, preds), 3))"
   ]
  },
  {
   "cell_type": "code",
   "execution_count": 93,
   "metadata": {
    "tags": []
   },
   "outputs": [
    {
     "output_type": "stream",
     "name": "stdout",
     "text": "7\n"
    }
   ],
   "source": [
    "preds2 = log_regression(X, y, k = 0.1, w = weights, C = 10.0, epsilon = 1e-5, max_iter = 10000)"
   ]
  },
  {
   "cell_type": "code",
   "execution_count": 96,
   "metadata": {
    "tags": []
   },
   "outputs": [
    {
     "output_type": "stream",
     "name": "stdout",
     "text": "0.936\n"
    }
   ],
   "source": [
    "print(round(roc_auc_score(y, preds2), 3))"
   ]
  },
  {
   "cell_type": "markdown",
   "metadata": {},
   "source": [
    "# [Week 3 Metrics](https://www.coursera.org/learn/vvedenie-mashinnoe-obuchenie/programming/vfD6M/mietriki-kachiestva-klassifikatsii)"
   ]
  },
  {
   "cell_type": "code",
   "execution_count": 1,
   "metadata": {},
   "outputs": [],
   "source": [
    "import pandas as pd\n",
    "import numpy as np"
   ]
  },
  {
   "cell_type": "markdown",
   "metadata": {},
   "source": [
    "### 1)Загрузите файл classification.csv. В нем записаны истинные классы объектов выборки (колонка true) и ответы некоторого классификатора (колонка pred)."
   ]
  },
  {
   "cell_type": "code",
   "execution_count": 2,
   "metadata": {},
   "outputs": [
    {
     "output_type": "execute_result",
     "data": {
      "text/plain": "   true  pred\n0     1     0\n1     1     1\n2     1     1\n3     0     0\n4     1     1",
      "text/html": "<div>\n<style scoped>\n    .dataframe tbody tr th:only-of-type {\n        vertical-align: middle;\n    }\n\n    .dataframe tbody tr th {\n        vertical-align: top;\n    }\n\n    .dataframe thead th {\n        text-align: right;\n    }\n</style>\n<table border=\"1\" class=\"dataframe\">\n  <thead>\n    <tr style=\"text-align: right;\">\n      <th></th>\n      <th>true</th>\n      <th>pred</th>\n    </tr>\n  </thead>\n  <tbody>\n    <tr>\n      <th>0</th>\n      <td>1</td>\n      <td>0</td>\n    </tr>\n    <tr>\n      <th>1</th>\n      <td>1</td>\n      <td>1</td>\n    </tr>\n    <tr>\n      <th>2</th>\n      <td>1</td>\n      <td>1</td>\n    </tr>\n    <tr>\n      <th>3</th>\n      <td>0</td>\n      <td>0</td>\n    </tr>\n    <tr>\n      <th>4</th>\n      <td>1</td>\n      <td>1</td>\n    </tr>\n  </tbody>\n</table>\n</div>"
     },
     "metadata": {},
     "execution_count": 2
    }
   ],
   "source": [
    "data = pd.read_csv('classification.csv')\n",
    "data.head()"
   ]
  },
  {
   "cell_type": "markdown",
   "metadata": {},
   "source": [
    "### 2) Заполните таблицу ошибок классификации:"
   ]
  },
  {
   "cell_type": "code",
   "execution_count": 7,
   "metadata": {
    "tags": []
   },
   "outputs": [
    {
     "output_type": "stream",
     "name": "stdout",
     "text": "Confusion matrix:\n<function confusion_matrix at 0x00000208721FE438>\n"
    }
   ],
   "source": [
    "from sklearn.metrics import confusion_matrix\n",
    "tn, fp, fn, tp = confusion_matrix(data.iloc[:,0], data.iloc[:,1]).ravel()\n",
    "confusion_matrix = confusion_matrix(data.iloc[:,0], data.iloc[:,1])\n",
    "tn, fp, fn, tp = confusion_matrix(data.iloc[:,0], data.iloc[:,1]).ravel()\n",
    "print(\"Confusion matrix:\\n%s\" % confusion_matrix)"
   ]
  },
  {
   "cell_type": "code",
   "execution_count": 8,
   "metadata": {},
   "outputs": [
    {
     "output_type": "execute_result",
     "data": {
      "text/plain": "(64, 34, 59, 43)"
     },
     "metadata": {},
     "execution_count": 8
    }
   ],
   "source": [
    "tn, fp, fn, tp"
   ]
  },
  {
   "cell_type": "markdown",
   "metadata": {},
   "source": [
    "### Ответ на 1 вопрос :43 34 59 64"
   ]
  },
  {
   "cell_type": "markdown",
   "metadata": {},
   "source": [
    "### 3) Посчитайте основные метрики качества классификатора:"
   ]
  },
  {
   "cell_type": "code",
   "execution_count": 33,
   "metadata": {
    "tags": []
   },
   "outputs": [
    {
     "output_type": "stream",
     "name": "stdout",
     "text": "Доля верных:  0.54\nТочность:  0.56\nПолнота:  0.42\nF-1:  0.48\n"
    }
   ],
   "source": [
    "import sklearn \n",
    "y_true = data.iloc[:,0]\n",
    "y_pred = data.iloc[:,1]\n",
    "accuracy = sklearn.metrics.accuracy_score(y_true, y_pred)\n",
    "print('Доля верных: ', round(accuracy,2))\n",
    "precision =  sklearn.metrics.precision_score(y_true, y_pred)\n",
    "print('Точность: ', round(precision, 2))\n",
    "recall = sklearn.metrics.recall_score(y_true, y_pred)\n",
    "print('Полнота: ', round(recall, 2))\n",
    "F_1 = sklearn.metrics.f1_score(y_true, y_pred)\n",
    "print('F-1: ', round(F_1, 2))"
   ]
  },
  {
   "cell_type": "markdown",
   "metadata": {},
   "source": [
    "### 4) Имеется четыре обученных классификатора. В файле scores.csv записаны истинные классы и значения степени принадлежности положительному классу для каждого классификатора на некоторой выборке:"
   ]
  },
  {
   "cell_type": "code",
   "execution_count": 40,
   "metadata": {},
   "outputs": [
    {
     "output_type": "execute_result",
     "data": {
      "text/plain": "   true  score_logreg  score_svm  score_knn  score_tree\n0     0      0.683832   0.145976   0.787063    0.500000\n1     1      0.801966   0.239511   1.000000    0.833333\n2     0      0.382315  -0.245701   0.000000    0.000000\n3     1      0.506797  -0.137058   0.000000    0.105263\n4     1      0.488781  -0.154148   0.000000    0.105263",
      "text/html": "<div>\n<style scoped>\n    .dataframe tbody tr th:only-of-type {\n        vertical-align: middle;\n    }\n\n    .dataframe tbody tr th {\n        vertical-align: top;\n    }\n\n    .dataframe thead th {\n        text-align: right;\n    }\n</style>\n<table border=\"1\" class=\"dataframe\">\n  <thead>\n    <tr style=\"text-align: right;\">\n      <th></th>\n      <th>true</th>\n      <th>score_logreg</th>\n      <th>score_svm</th>\n      <th>score_knn</th>\n      <th>score_tree</th>\n    </tr>\n  </thead>\n  <tbody>\n    <tr>\n      <th>0</th>\n      <td>0</td>\n      <td>0.683832</td>\n      <td>0.145976</td>\n      <td>0.787063</td>\n      <td>0.500000</td>\n    </tr>\n    <tr>\n      <th>1</th>\n      <td>1</td>\n      <td>0.801966</td>\n      <td>0.239511</td>\n      <td>1.000000</td>\n      <td>0.833333</td>\n    </tr>\n    <tr>\n      <th>2</th>\n      <td>0</td>\n      <td>0.382315</td>\n      <td>-0.245701</td>\n      <td>0.000000</td>\n      <td>0.000000</td>\n    </tr>\n    <tr>\n      <th>3</th>\n      <td>1</td>\n      <td>0.506797</td>\n      <td>-0.137058</td>\n      <td>0.000000</td>\n      <td>0.105263</td>\n    </tr>\n    <tr>\n      <th>4</th>\n      <td>1</td>\n      <td>0.488781</td>\n      <td>-0.154148</td>\n      <td>0.000000</td>\n      <td>0.105263</td>\n    </tr>\n  </tbody>\n</table>\n</div>"
     },
     "metadata": {},
     "execution_count": 40
    }
   ],
   "source": [
    "data = pd.read_csv('scores.csv')\n",
    "y_true = data.iloc[:,0]\n",
    "y_score_log = data.iloc[:,1]\n",
    "y_score_svm = data.iloc[:,2]\n",
    "y_score_knn = data.iloc[:,3]\n",
    "y_score_tree = data.iloc[:,4]\n",
    "data.head()"
   ]
  },
  {
   "cell_type": "markdown",
   "metadata": {},
   "source": [
    "### 5) Посчитайте площадь под ROC-кривой для каждого классификатора. Какой классификатор имеет наибольшее значение метрики AUC-ROC (укажите название столбца)? Воспользуйтесь функцией sklearn.metrics.roc_auc_score."
   ]
  },
  {
   "cell_type": "code",
   "execution_count": 43,
   "metadata": {
    "tags": []
   },
   "outputs": [
    {
     "output_type": "stream",
     "name": "stdout",
     "text": "Log:  0.72 Svm:  0.71 Knn:  0.64 Tree:  0.69\n"
    }
   ],
   "source": [
    "roc_log = sklearn.metrics.roc_auc_score(y_true, y_score_log)\n",
    "roc_svm = sklearn.metrics.roc_auc_score(y_true, y_score_svm)\n",
    "roc_knn = sklearn.metrics.roc_auc_score(y_true, y_score_knn)\n",
    "roc_tree = sklearn.metrics.roc_auc_score(y_true, y_score_tree)\n",
    "print('Log: ', round(roc_log, 2), 'Svm: ', round(roc_svm, 2), 'Knn: ', round(roc_knn,2), 'Tree: ', round(roc_tree,2))"
   ]
  },
  {
   "cell_type": "code",
   "execution_count": 145,
   "metadata": {},
   "outputs": [],
   "source": [
    "log = sklearn.metrics.precision_recall_curve(y_true, y_score_log)\n",
    "svm = sklearn.metrics.precision_recall_curve(y_true, y_score_svm)\n",
    "knn = sklearn.metrics.precision_recall_curve(y_true, y_score_knn)\n",
    "tree = sklearn.metrics.precision_recall_curve(y_true, y_score_tree)"
   ]
  },
  {
   "cell_type": "code",
   "execution_count": 148,
   "metadata": {},
   "outputs": [],
   "source": [
    "result = np.where(tree[1] >= 0.7)"
   ]
  },
  {
   "cell_type": "code",
   "execution_count": 149,
   "metadata": {
    "tags": []
   },
   "outputs": [
    {
     "output_type": "execute_result",
     "data": {
      "text/plain": "0.65"
     },
     "metadata": {},
     "execution_count": 149
    }
   ],
   "source": [
    "a = list()\n",
    "for i in result:\n",
    "    a =tree[0][i]\n",
    "round(max(a),2)"
   ]
  },
  {
   "cell_type": "code",
   "execution_count": 150,
   "metadata": {},
   "outputs": [
    {
     "output_type": "execute_result",
     "data": {
      "text/plain": "(0.63, 0.62)"
     },
     "metadata": {},
     "execution_count": 150
    }
   ],
   "source": [
    "0.63 , 0.62"
   ]
  },
  {
   "cell_type": "markdown",
   "metadata": {},
   "source": [
    "# [Week 4](https://www.coursera.org/learn/vvedenie-mashinnoe-obuchenie/programming/QFvJY/linieinaia-rieghriessiia-proghnoz-oklada-po-opisaniiu-vakansii)"
   ]
  },
  {
   "cell_type": "code",
   "execution_count": 59,
   "metadata": {},
   "outputs": [
    {
     "output_type": "execute_result",
     "data": {
      "text/plain": "                                     FullDescription LocationNormalized  \\\n0  International Sales Manager London ****k  ****...             London   \n1  An ideal opportunity for an individual that ha...             London   \n2  Online Content and Brand Manager// Luxury Reta...  South East London   \n3  A great local marketleader is seeking a perman...            Dereham   \n4  Registered Nurse / RGN  Nursing Home for Young...   Sutton Coldfield   \n\n  ContractTime  SalaryNormalized  \n0    permanent             33000  \n1    permanent             50000  \n2    permanent             40000  \n3    permanent             22500  \n4          NaN             20355  ",
      "text/html": "<div>\n<style scoped>\n    .dataframe tbody tr th:only-of-type {\n        vertical-align: middle;\n    }\n\n    .dataframe tbody tr th {\n        vertical-align: top;\n    }\n\n    .dataframe thead th {\n        text-align: right;\n    }\n</style>\n<table border=\"1\" class=\"dataframe\">\n  <thead>\n    <tr style=\"text-align: right;\">\n      <th></th>\n      <th>FullDescription</th>\n      <th>LocationNormalized</th>\n      <th>ContractTime</th>\n      <th>SalaryNormalized</th>\n    </tr>\n  </thead>\n  <tbody>\n    <tr>\n      <th>0</th>\n      <td>International Sales Manager London ****k  ****...</td>\n      <td>London</td>\n      <td>permanent</td>\n      <td>33000</td>\n    </tr>\n    <tr>\n      <th>1</th>\n      <td>An ideal opportunity for an individual that ha...</td>\n      <td>London</td>\n      <td>permanent</td>\n      <td>50000</td>\n    </tr>\n    <tr>\n      <th>2</th>\n      <td>Online Content and Brand Manager// Luxury Reta...</td>\n      <td>South East London</td>\n      <td>permanent</td>\n      <td>40000</td>\n    </tr>\n    <tr>\n      <th>3</th>\n      <td>A great local marketleader is seeking a perman...</td>\n      <td>Dereham</td>\n      <td>permanent</td>\n      <td>22500</td>\n    </tr>\n    <tr>\n      <th>4</th>\n      <td>Registered Nurse / RGN  Nursing Home for Young...</td>\n      <td>Sutton Coldfield</td>\n      <td>NaN</td>\n      <td>20355</td>\n    </tr>\n  </tbody>\n</table>\n</div>"
     },
     "metadata": {},
     "execution_count": 59
    }
   ],
   "source": [
    "#загрука данных\n",
    "import pandas as pd\n",
    "import numpy as np\n",
    "train = pd.read_csv('salary-train.csv')\n",
    "test = pd.read_csv('salary-test-mini.csv')\n",
    "train.head()"
   ]
  },
  {
   "cell_type": "markdown",
   "metadata": {},
   "source": [
    "### Предобработка"
   ]
  },
  {
   "cell_type": "code",
   "execution_count": 60,
   "metadata": {},
   "outputs": [],
   "source": [
    "# Заменим все, кроме букв и цифр на пробелы\n",
    "y_train = train.iloc[:,3] \n",
    "X_train = train.iloc[:,:3] \n",
    "X_train['FullDescription'] = train['FullDescription'].replace('[^a-zA-Z0-9]', ' ', regex = True)"
   ]
  },
  {
   "cell_type": "code",
   "execution_count": 15,
   "metadata": {},
   "outputs": [
    {
     "output_type": "error",
     "ename": "NameError",
     "evalue": "name 'train' is not defined",
     "traceback": [
      "\u001b[1;31m---------------------------------------------------------------------------\u001b[0m",
      "\u001b[1;31mNameError\u001b[0m                                 Traceback (most recent call last)",
      "\u001b[1;32m<ipython-input-15-40500423035f>\u001b[0m in \u001b[0;36m<module>\u001b[1;34m\u001b[0m\n\u001b[0;32m      1\u001b[0m \u001b[1;31m# Приведение к нижнему регистру\u001b[0m\u001b[1;33m\u001b[0m\u001b[1;33m\u001b[0m\u001b[1;33m\u001b[0m\u001b[0m\n\u001b[1;32m----> 2\u001b[1;33m \u001b[0mX_train\u001b[0m\u001b[1;33m[\u001b[0m\u001b[1;34m'LocationNormalized'\u001b[0m\u001b[1;33m]\u001b[0m \u001b[1;33m=\u001b[0m \u001b[0mtrain\u001b[0m\u001b[1;33m[\u001b[0m\u001b[1;34m'LocationNormalized'\u001b[0m\u001b[1;33m]\u001b[0m\u001b[1;33m.\u001b[0m\u001b[0mstr\u001b[0m\u001b[1;33m.\u001b[0m\u001b[0mlower\u001b[0m\u001b[1;33m(\u001b[0m\u001b[1;33m)\u001b[0m\u001b[1;33m\u001b[0m\u001b[1;33m\u001b[0m\u001b[0m\n\u001b[0m\u001b[0;32m      3\u001b[0m \u001b[0mX_train\u001b[0m\u001b[1;33m[\u001b[0m\u001b[1;34m'ContractTime'\u001b[0m\u001b[1;33m]\u001b[0m \u001b[1;33m=\u001b[0m \u001b[0mtrain\u001b[0m\u001b[1;33m[\u001b[0m\u001b[1;34m'ContractTime'\u001b[0m\u001b[1;33m]\u001b[0m\u001b[1;33m.\u001b[0m\u001b[0mstr\u001b[0m\u001b[1;33m.\u001b[0m\u001b[0mlower\u001b[0m\u001b[1;33m(\u001b[0m\u001b[1;33m)\u001b[0m\u001b[1;33m\u001b[0m\u001b[1;33m\u001b[0m\u001b[0m\n\u001b[0;32m      4\u001b[0m \u001b[0mX_train\u001b[0m\u001b[1;33m[\u001b[0m\u001b[1;34m'FullDescription'\u001b[0m\u001b[1;33m]\u001b[0m \u001b[1;33m=\u001b[0m \u001b[0mtrain\u001b[0m\u001b[1;33m[\u001b[0m\u001b[1;34m'FullDescription'\u001b[0m\u001b[1;33m]\u001b[0m\u001b[1;33m.\u001b[0m\u001b[0mstr\u001b[0m\u001b[1;33m.\u001b[0m\u001b[0mlower\u001b[0m\u001b[1;33m(\u001b[0m\u001b[1;33m)\u001b[0m\u001b[1;33m\u001b[0m\u001b[1;33m\u001b[0m\u001b[0m\n",
      "\u001b[1;31mNameError\u001b[0m: name 'train' is not defined"
     ]
    }
   ],
   "source": [
    "# Приведение к нижнему регистру\n",
    "X_train['LocationNormalized'] = train['LocationNormalized'].str.lower()\n",
    "X_train['ContractTime'] = train['ContractTime'].str.lower()\n",
    "X_train['FullDescription'] = train['FullDescription'].str.lower()"
   ]
  },
  {
   "cell_type": "code",
   "execution_count": 62,
   "metadata": {},
   "outputs": [],
   "source": [
    "# Замена пустых значений на nan \n",
    "X_train['LocationNormalized'].fillna('nan', inplace=True)\n",
    "X_train['ContractTime'].fillna('nan', inplace=True)"
   ]
  },
  {
   "cell_type": "code",
   "execution_count": 63,
   "metadata": {},
   "outputs": [],
   "source": [
    "# применяем векторизацию\n",
    "from sklearn.feature_extraction.text import TfidfVectorizer\n",
    "from sklearn.feature_extraction import DictVectorizer\n",
    "\n",
    "vectorizer = TfidfVectorizer(min_df=5)\n",
    "\n",
    "X_train_vec = vectorizer.fit_transform(X_train['FullDescription'])\n",
    "\n",
    "X_test_vec = vectorizer.transform(test['FullDescription'])\n",
    "\n",
    "\n",
    "enc = DictVectorizer()\n",
    "\n",
    "X_train_categ = enc.fit_transform(X_train[['LocationNormalized', 'ContractTime']].to_dict('records'))\n",
    "\n",
    "X_test_categ = enc.transform(test[['LocationNormalized', 'ContractTime']].to_dict('records'))"
   ]
  },
  {
   "cell_type": "code",
   "execution_count": 64,
   "metadata": {},
   "outputs": [],
   "source": [
    "X_for_train = hstack([X_train_vec, X_train_categ])\n",
    "\n",
    "X_for_test = hstack([X_test_vec, X_test_categ])"
   ]
  },
  {
   "cell_type": "code",
   "execution_count": null,
   "metadata": {},
   "outputs": [],
   "source": [
    "# обучаем гребневую регрессию"
   ]
  },
  {
   "cell_type": "code",
   "execution_count": 65,
   "metadata": {},
   "outputs": [],
   "source": [
    "from sklearn.linear_model import Ridge\n",
    "ridge = Ridge(alpha = 1, random_state = 241)"
   ]
  },
  {
   "cell_type": "code",
   "execution_count": 66,
   "metadata": {},
   "outputs": [
    {
     "output_type": "execute_result",
     "data": {
      "text/plain": "Ridge(alpha=1, copy_X=True, fit_intercept=True, max_iter=None, normalize=False,\n      random_state=241, solver='auto', tol=0.001)"
     },
     "metadata": {},
     "execution_count": 66
    }
   ],
   "source": [
    "ridge.fit(X_for_train, y_train)"
   ]
  },
  {
   "cell_type": "code",
   "execution_count": null,
   "metadata": {},
   "outputs": [],
   "source": [
    "# строим прогнозы"
   ]
  },
  {
   "cell_type": "code",
   "execution_count": 68,
   "metadata": {},
   "outputs": [],
   "source": [
    "preds = ridge.predict(X_for_test)"
   ]
  },
  {
   "cell_type": "code",
   "execution_count": 70,
   "metadata": {
    "tags": []
   },
   "outputs": [
    {
     "output_type": "stream",
     "name": "stdout",
     "text": "Ответ:\n55872.49\n37163.51\n"
    }
   ],
   "source": [
    "print('Ответ:')\n",
    "for i in preds:\n",
    "    print(round(i,2))"
   ]
  },
  {
   "cell_type": "markdown",
   "metadata": {},
   "source": [
    "# [Week 4 Составление фондового индекса](https://www.coursera.org/learn/vvedenie-mashinnoe-obuchenie/programming/UzPbw/sostavlieniie-fondovogho-indieksa)"
   ]
  },
  {
   "cell_type": "markdown",
   "metadata": {},
   "source": [
    "## Инструкция по выполнению\n",
    "### 1) Загрузите данные close_prices.csv. В этом файле приведены цены акций 30 компаний на закрытии торгов за каждый день периода.\n",
    "### 2) На загруженных данных обучите преобразование PCA с числом компоненты равным 10. Скольких компонент хватит, чтобы объяснить 90% дисперсии?\n",
    "### 3)Примените построенное преобразование к исходным данным и возьмите значения первой компоненты.\n",
    "### 4) Загрузите информацию об индексе Доу-Джонса из файла djia_index.csv. Чему равна корреляция Пирсона между первой компонентой и индексом Доу-Джонса?\n",
    "### 5) Какая компания имеет наибольший вес в первой компоненте? Укажите ее название с большой буквы.\n"
   ]
  },
  {
   "cell_type": "code",
   "execution_count": 75,
   "metadata": {},
   "outputs": [
    {
     "output_type": "execute_result",
     "data": {
      "text/plain": "         date        AXP          BA        CAT       CSCO         CVX  \\\n0  2013-09-23  76.440002  117.510002  85.029999  24.270000  125.519997   \n1  2013-09-24  76.070000  119.000000  85.110001  24.139999  124.489998   \n2  2013-09-25  75.989998  118.510002  84.500000  24.430000  124.070000   \n3  2013-09-26  76.320000  119.379997  84.199997  23.770000  123.489998   \n4  2013-09-27  75.889999  118.739998  83.800003  23.330000  122.639999   \n\n          DD        DIS         GE          GS  ...        PFE         PG  \\\n0  59.409999  64.750000  24.280001  165.250000  ...  28.799999  79.279999   \n1  59.319997  64.320000  24.320000  162.970001  ...  28.709999  78.620003   \n2  59.319997  64.449997  24.230000  162.309998  ...  28.490000  77.720001   \n3  59.509996  65.239998  24.250000  162.289993  ...  28.520000  78.050003   \n4  59.009995  65.190002  24.049999  159.850006  ...  28.879999  77.209999   \n\n           T        TRV        UNH         UTX           V         VZ  \\\n0  34.220001  86.379997  71.820000  109.419998  196.240005  47.980000   \n1  34.090000  85.870003  72.320000  110.000000  193.339996  47.270000   \n2  34.049999  85.980003  71.980003  109.260002  191.559998  46.950001   \n3  34.230000  85.830002  72.160004  109.660004  193.559998  47.669998   \n4  33.980000  85.410004  71.989998  109.360001  193.050003  47.000000   \n\n         WMT        XOM  \n0  76.419998  87.750000  \n1  75.750000  87.360001  \n2  74.650002  87.139999  \n3  74.620003  87.070000  \n4  74.360001  86.900002  \n\n[5 rows x 31 columns]",
      "text/html": "<div>\n<style scoped>\n    .dataframe tbody tr th:only-of-type {\n        vertical-align: middle;\n    }\n\n    .dataframe tbody tr th {\n        vertical-align: top;\n    }\n\n    .dataframe thead th {\n        text-align: right;\n    }\n</style>\n<table border=\"1\" class=\"dataframe\">\n  <thead>\n    <tr style=\"text-align: right;\">\n      <th></th>\n      <th>date</th>\n      <th>AXP</th>\n      <th>BA</th>\n      <th>CAT</th>\n      <th>CSCO</th>\n      <th>CVX</th>\n      <th>DD</th>\n      <th>DIS</th>\n      <th>GE</th>\n      <th>GS</th>\n      <th>...</th>\n      <th>PFE</th>\n      <th>PG</th>\n      <th>T</th>\n      <th>TRV</th>\n      <th>UNH</th>\n      <th>UTX</th>\n      <th>V</th>\n      <th>VZ</th>\n      <th>WMT</th>\n      <th>XOM</th>\n    </tr>\n  </thead>\n  <tbody>\n    <tr>\n      <th>0</th>\n      <td>2013-09-23</td>\n      <td>76.440002</td>\n      <td>117.510002</td>\n      <td>85.029999</td>\n      <td>24.270000</td>\n      <td>125.519997</td>\n      <td>59.409999</td>\n      <td>64.750000</td>\n      <td>24.280001</td>\n      <td>165.250000</td>\n      <td>...</td>\n      <td>28.799999</td>\n      <td>79.279999</td>\n      <td>34.220001</td>\n      <td>86.379997</td>\n      <td>71.820000</td>\n      <td>109.419998</td>\n      <td>196.240005</td>\n      <td>47.980000</td>\n      <td>76.419998</td>\n      <td>87.750000</td>\n    </tr>\n    <tr>\n      <th>1</th>\n      <td>2013-09-24</td>\n      <td>76.070000</td>\n      <td>119.000000</td>\n      <td>85.110001</td>\n      <td>24.139999</td>\n      <td>124.489998</td>\n      <td>59.319997</td>\n      <td>64.320000</td>\n      <td>24.320000</td>\n      <td>162.970001</td>\n      <td>...</td>\n      <td>28.709999</td>\n      <td>78.620003</td>\n      <td>34.090000</td>\n      <td>85.870003</td>\n      <td>72.320000</td>\n      <td>110.000000</td>\n      <td>193.339996</td>\n      <td>47.270000</td>\n      <td>75.750000</td>\n      <td>87.360001</td>\n    </tr>\n    <tr>\n      <th>2</th>\n      <td>2013-09-25</td>\n      <td>75.989998</td>\n      <td>118.510002</td>\n      <td>84.500000</td>\n      <td>24.430000</td>\n      <td>124.070000</td>\n      <td>59.319997</td>\n      <td>64.449997</td>\n      <td>24.230000</td>\n      <td>162.309998</td>\n      <td>...</td>\n      <td>28.490000</td>\n      <td>77.720001</td>\n      <td>34.049999</td>\n      <td>85.980003</td>\n      <td>71.980003</td>\n      <td>109.260002</td>\n      <td>191.559998</td>\n      <td>46.950001</td>\n      <td>74.650002</td>\n      <td>87.139999</td>\n    </tr>\n    <tr>\n      <th>3</th>\n      <td>2013-09-26</td>\n      <td>76.320000</td>\n      <td>119.379997</td>\n      <td>84.199997</td>\n      <td>23.770000</td>\n      <td>123.489998</td>\n      <td>59.509996</td>\n      <td>65.239998</td>\n      <td>24.250000</td>\n      <td>162.289993</td>\n      <td>...</td>\n      <td>28.520000</td>\n      <td>78.050003</td>\n      <td>34.230000</td>\n      <td>85.830002</td>\n      <td>72.160004</td>\n      <td>109.660004</td>\n      <td>193.559998</td>\n      <td>47.669998</td>\n      <td>74.620003</td>\n      <td>87.070000</td>\n    </tr>\n    <tr>\n      <th>4</th>\n      <td>2013-09-27</td>\n      <td>75.889999</td>\n      <td>118.739998</td>\n      <td>83.800003</td>\n      <td>23.330000</td>\n      <td>122.639999</td>\n      <td>59.009995</td>\n      <td>65.190002</td>\n      <td>24.049999</td>\n      <td>159.850006</td>\n      <td>...</td>\n      <td>28.879999</td>\n      <td>77.209999</td>\n      <td>33.980000</td>\n      <td>85.410004</td>\n      <td>71.989998</td>\n      <td>109.360001</td>\n      <td>193.050003</td>\n      <td>47.000000</td>\n      <td>74.360001</td>\n      <td>86.900002</td>\n    </tr>\n  </tbody>\n</table>\n<p>5 rows × 31 columns</p>\n</div>"
     },
     "metadata": {},
     "execution_count": 75
    }
   ],
   "source": [
    "import pandas as pd\n",
    "import numpy as np\n",
    "data = pd.read_csv('close_prices.csv')\n",
    "data.head()"
   ]
  },
  {
   "cell_type": "code",
   "execution_count": 87,
   "metadata": {},
   "outputs": [],
   "source": [
    " # обучение РСА\n",
    "from sklearn.decomposition import PCA\n",
    "pca = PCA(n_components = 10)\n",
    "X = data.iloc[:,1:]"
   ]
  },
  {
   "cell_type": "code",
   "execution_count": 88,
   "metadata": {},
   "outputs": [],
   "source": [
    "comper = pca.fit(X)"
   ]
  },
  {
   "cell_type": "code",
   "execution_count": 90,
   "metadata": {
    "tags": []
   },
   "outputs": [
    {
     "output_type": "stream",
     "name": "stdout",
     "text": "Need components 4\n"
    }
   ],
   "source": [
    "count = 0\n",
    "sum = 0\n",
    "for i in range(len(pca.explained_variance_ratio_)):\n",
    "    count+=1\n",
    "    value = pca.explained_variance_ratio_[i]\n",
    "    sum+= value\n",
    "    if sum > 0.9:\n",
    "        break\n",
    "print(\"Need components %d\" % count)"
   ]
  },
  {
   "cell_type": "code",
   "execution_count": 92,
   "metadata": {},
   "outputs": [],
   "source": [
    "first_comp = pd.DataFrame(pca.transform(X)[:,0])"
   ]
  },
  {
   "cell_type": "code",
   "execution_count": 96,
   "metadata": {},
   "outputs": [],
   "source": [
    "jonse = pd.read_csv('djia_index.csv')\n",
    "jonse = jonse.iloc[:,1:]"
   ]
  },
  {
   "cell_type": "code",
   "execution_count": 97,
   "metadata": {
    "tags": []
   },
   "outputs": [
    {
     "output_type": "stream",
     "name": "stdout",
     "text": "Corrcoef 0.91\n"
    }
   ],
   "source": [
    "coef = np.corrcoef(first_comp.T, jonse.T)[1,0]\n",
    "print(\"Corrcoef %0.2f\" % coef)"
   ]
  },
  {
   "cell_type": "markdown",
   "metadata": {},
   "source": [
    "### 5)"
   ]
  },
  {
   "cell_type": "code",
   "execution_count": 118,
   "metadata": {
    "tags": []
   },
   "outputs": [
    {
     "output_type": "stream",
     "name": "stdout",
     "text": "Company name: 'V' weight: 0.58\n"
    }
   ],
   "source": [
    "indx = -1\n",
    "value = -1\n",
    "for i in range(len(pca.components_[0])):\n",
    "    if value < pca.components_[0][i]:\n",
    "        value = pca.components_[0][i]\n",
    "        indx = i\n",
    "print(\"Company name: '%s' weight: %0.2f\" % (X.columns[indx], value))"
   ]
  },
  {
   "cell_type": "code",
   "execution_count": 102,
   "metadata": {},
   "outputs": [
    {
     "output_type": "execute_result",
     "data": {
      "text/plain": "0.579683945747361"
     },
     "metadata": {},
     "execution_count": 102
    }
   ],
   "source": [
    "pca.components_[0][26]"
   ]
  }
 ],
 "metadata": {
  "language_info": {
   "codemirror_mode": {
    "name": "ipython",
    "version": 3
   },
   "file_extension": ".py",
   "mimetype": "text/x-python",
   "name": "python",
   "nbconvert_exporter": "python",
   "pygments_lexer": "ipython3",
   "version": "3.7.7-final"
  },
  "orig_nbformat": 2,
  "kernelspec": {
   "name": "python37764bittensorflowcondaae9ae9f78a3b4da8b90f6c6ad082f906",
   "display_name": "Python 3.7.7 64-bit ('tensorflow': conda)"
  }
 },
 "nbformat": 4,
 "nbformat_minor": 2
}