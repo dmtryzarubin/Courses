{
 "metadata": {
  "language_info": {
   "codemirror_mode": {
    "name": "ipython",
    "version": 3
   },
   "file_extension": ".py",
   "mimetype": "text/x-python",
   "name": "python",
   "nbconvert_exporter": "python",
   "pygments_lexer": "ipython3",
   "version": "3.7.7-final"
  },
  "orig_nbformat": 2,
  "kernelspec": {
   "name": "python_defaultSpec_1598171868861",
   "display_name": "Python 3.7.7 64-bit ('tensorflow': conda)"
  }
 },
 "nbformat": 4,
 "nbformat_minor": 2,
 "cells": [
  {
   "cell_type": "code",
   "execution_count": 1,
   "metadata": {},
   "outputs": [
    {
     "output_type": "execute_result",
     "data": {
      "text/plain": "          start_time  lobby_type  r1_hero  r1_level  r1_xp  r1_gold  r1_lh  \\\nmatch_id                                                                     \n0         1430198770           7       11         5   2098     1489     20   \n1         1430220345           0       42         4   1188     1033      9   \n2         1430227081           7       33         4   1319     1270     22   \n3         1430263531           1       29         4   1779     1056     14   \n4         1430282290           7       13         4   1431     1090      8   \n\n          r1_kills  r1_deaths  r1_items  ...  dire_boots_count  \\\nmatch_id                                 ...                     \n0                0          0         7  ...                 4   \n1                0          1        12  ...                 4   \n2                0          0        12  ...                 4   \n3                0          0         5  ...                 4   \n4                1          0         8  ...                 3   \n\n          dire_ward_observer_count  dire_ward_sentry_count  \\\nmatch_id                                                     \n0                                2                       2   \n1                                3                       1   \n2                                3                       1   \n3                                2                       0   \n4                                3                       0   \n\n          dire_first_ward_time  duration  radiant_win  tower_status_radiant  \\\nmatch_id                                                                      \n0                        -52.0      2874            1                  1796   \n1                         -5.0      2463            1                  1974   \n2                         13.0      2130            0                     0   \n3                         27.0      1459            0                  1920   \n4                        -16.0      2449            0                     4   \n\n          tower_status_dire  barracks_status_radiant  barracks_status_dire  \nmatch_id                                                                    \n0                         0                       51                     0  \n1                         0                       63                     1  \n2                      1830                        0                    63  \n3                      2047                       50                    63  \n4                      1974                        3                    63  \n\n[5 rows x 108 columns]",
      "text/html": "<div>\n<style scoped>\n    .dataframe tbody tr th:only-of-type {\n        vertical-align: middle;\n    }\n\n    .dataframe tbody tr th {\n        vertical-align: top;\n    }\n\n    .dataframe thead th {\n        text-align: right;\n    }\n</style>\n<table border=\"1\" class=\"dataframe\">\n  <thead>\n    <tr style=\"text-align: right;\">\n      <th></th>\n      <th>start_time</th>\n      <th>lobby_type</th>\n      <th>r1_hero</th>\n      <th>r1_level</th>\n      <th>r1_xp</th>\n      <th>r1_gold</th>\n      <th>r1_lh</th>\n      <th>r1_kills</th>\n      <th>r1_deaths</th>\n      <th>r1_items</th>\n      <th>...</th>\n      <th>dire_boots_count</th>\n      <th>dire_ward_observer_count</th>\n      <th>dire_ward_sentry_count</th>\n      <th>dire_first_ward_time</th>\n      <th>duration</th>\n      <th>radiant_win</th>\n      <th>tower_status_radiant</th>\n      <th>tower_status_dire</th>\n      <th>barracks_status_radiant</th>\n      <th>barracks_status_dire</th>\n    </tr>\n    <tr>\n      <th>match_id</th>\n      <th></th>\n      <th></th>\n      <th></th>\n      <th></th>\n      <th></th>\n      <th></th>\n      <th></th>\n      <th></th>\n      <th></th>\n      <th></th>\n      <th></th>\n      <th></th>\n      <th></th>\n      <th></th>\n      <th></th>\n      <th></th>\n      <th></th>\n      <th></th>\n      <th></th>\n      <th></th>\n      <th></th>\n    </tr>\n  </thead>\n  <tbody>\n    <tr>\n      <th>0</th>\n      <td>1430198770</td>\n      <td>7</td>\n      <td>11</td>\n      <td>5</td>\n      <td>2098</td>\n      <td>1489</td>\n      <td>20</td>\n      <td>0</td>\n      <td>0</td>\n      <td>7</td>\n      <td>...</td>\n      <td>4</td>\n      <td>2</td>\n      <td>2</td>\n      <td>-52.0</td>\n      <td>2874</td>\n      <td>1</td>\n      <td>1796</td>\n      <td>0</td>\n      <td>51</td>\n      <td>0</td>\n    </tr>\n    <tr>\n      <th>1</th>\n      <td>1430220345</td>\n      <td>0</td>\n      <td>42</td>\n      <td>4</td>\n      <td>1188</td>\n      <td>1033</td>\n      <td>9</td>\n      <td>0</td>\n      <td>1</td>\n      <td>12</td>\n      <td>...</td>\n      <td>4</td>\n      <td>3</td>\n      <td>1</td>\n      <td>-5.0</td>\n      <td>2463</td>\n      <td>1</td>\n      <td>1974</td>\n      <td>0</td>\n      <td>63</td>\n      <td>1</td>\n    </tr>\n    <tr>\n      <th>2</th>\n      <td>1430227081</td>\n      <td>7</td>\n      <td>33</td>\n      <td>4</td>\n      <td>1319</td>\n      <td>1270</td>\n      <td>22</td>\n      <td>0</td>\n      <td>0</td>\n      <td>12</td>\n      <td>...</td>\n      <td>4</td>\n      <td>3</td>\n      <td>1</td>\n      <td>13.0</td>\n      <td>2130</td>\n      <td>0</td>\n      <td>0</td>\n      <td>1830</td>\n      <td>0</td>\n      <td>63</td>\n    </tr>\n    <tr>\n      <th>3</th>\n      <td>1430263531</td>\n      <td>1</td>\n      <td>29</td>\n      <td>4</td>\n      <td>1779</td>\n      <td>1056</td>\n      <td>14</td>\n      <td>0</td>\n      <td>0</td>\n      <td>5</td>\n      <td>...</td>\n      <td>4</td>\n      <td>2</td>\n      <td>0</td>\n      <td>27.0</td>\n      <td>1459</td>\n      <td>0</td>\n      <td>1920</td>\n      <td>2047</td>\n      <td>50</td>\n      <td>63</td>\n    </tr>\n    <tr>\n      <th>4</th>\n      <td>1430282290</td>\n      <td>7</td>\n      <td>13</td>\n      <td>4</td>\n      <td>1431</td>\n      <td>1090</td>\n      <td>8</td>\n      <td>1</td>\n      <td>0</td>\n      <td>8</td>\n      <td>...</td>\n      <td>3</td>\n      <td>3</td>\n      <td>0</td>\n      <td>-16.0</td>\n      <td>2449</td>\n      <td>0</td>\n      <td>4</td>\n      <td>1974</td>\n      <td>3</td>\n      <td>63</td>\n    </tr>\n  </tbody>\n</table>\n<p>5 rows × 108 columns</p>\n</div>"
     },
     "metadata": {},
     "execution_count": 1
    }
   ],
   "source": [
    "import pandas as pd\n",
    "features = pd.read_csv('features.csv', index_col='match_id')\n",
    "features_test = pd.read_csv('features_test.csv', index_col='match_id')\n",
    "features.head()"
   ]
  },
  {
   "cell_type": "markdown",
   "metadata": {},
   "source": [
    "# PART I \n",
    "## 1) \n",
    "###удалить:\n",
    "#### duration: длительность\n",
    "#### radiant_win: 1, если победила команда Radiant, 0 — иначе\n",
    "#### Состояние башен и барраков к концу матча (см. описание полей набора данных)\n",
    "#### tower_status_radiant\n",
    "#### tower_status_dire\n",
    "#### barracks_status_radiant\n",
    "#### barracks_status_dire"
   ]
  },
  {
   "cell_type": "code",
   "execution_count": 2,
   "metadata": {},
   "outputs": [],
   "source": [
    "X_train = features.drop(['duration', 'radiant_win', 'tower_status_radiant', 'tower_status_dire', 'barracks_status_radiant', 'barracks_status_dire' ], axis = 1)"
   ]
  },
  {
   "cell_type": "markdown",
   "metadata": {},
   "source": [
    "## 2) Проверьте выборку на наличие пропусков с помощью функции count(), которая для каждого столбца показывает число заполненных значений. Много ли пропусков в данных? Запишите названия признаков, имеющих пропуски, и попробуйте для любых двух из них дать обоснование, почему их значения могут быть пропущены."
   ]
  },
  {
   "cell_type": "code",
   "execution_count": 3,
   "metadata": {
    "tags": []
   },
   "outputs": [
    {
     "output_type": "stream",
     "name": "stdout",
     "text": "Number of nan-values in  first_blood_time is:  19553\nNumber of nan-values in  first_blood_team is:  19553\nNumber of nan-values in  first_blood_player1 is:  19553\nNumber of nan-values in  first_blood_player2 is:  43987\nNumber of nan-values in  radiant_bottle_time is:  15691\nNumber of nan-values in  radiant_courier_time is:  692\nNumber of nan-values in  radiant_flying_courier_time is:  27479\nNumber of nan-values in  radiant_first_ward_time is:  1836\nNumber of nan-values in  dire_bottle_time is:  16143\nNumber of nan-values in  dire_courier_time is:  676\nNumber of nan-values in  dire_flying_courier_time is:  26098\nNumber of nan-values in  dire_first_ward_time is:  1826\n"
    }
   ],
   "source": [
    "for i in X_train.columns:\n",
    "    if X_train[i].isna().sum() != 0:\n",
    "        print('Number of nan-values in ', i, 'is: ', X_train[i].isna().sum())"
   ]
  },
  {
   "cell_type": "markdown",
   "metadata": {},
   "source": [
    "## 3) Замените пропуски на нули с помощью функции fillna()."
   ]
  },
  {
   "cell_type": "code",
   "execution_count": 4,
   "metadata": {},
   "outputs": [],
   "source": [
    "X_train = X_train.fillna(0)\n",
    "X_test = features_test.fillna(0)"
   ]
  },
  {
   "cell_type": "markdown",
   "metadata": {},
   "source": [
    "## 4) Какой столбец содержит целевую переменную? Запишите его название.\n",
    "#### - radiant_win"
   ]
  },
  {
   "cell_type": "code",
   "execution_count": 5,
   "metadata": {},
   "outputs": [],
   "source": [
    "y = features['radiant_win'].values"
   ]
  },
  {
   "cell_type": "markdown",
   "metadata": {},
   "source": [
    "## 5) Забудем, что в выборке есть категориальные признаки, и попробуем обучить градиентный бустинг над деревьями на имеющейся матрице \"объекты-признаки\". Зафиксируйте генератор разбиений для кросс-валидации по 5 блокам (KFold), не забудьте перемешать при этом выборку (shuffle=True), поскольку данные в таблице отсортированы по времени, и без перемешивания можно столкнуться с нежелательными эффектами при оценивании качества. Оцените качество градиентного бустинга (GradientBoostingClassifier) с помощью данной кросс-валидации, попробуйте при этом разное количество деревьев (как минимум протестируйте следующие значения для количества деревьев: 10, 20, 30)."
   ]
  },
  {
   "cell_type": "code",
   "execution_count": 12,
   "metadata": {},
   "outputs": [],
   "source": [
    "from sklearn.ensemble import GradientBoostingClassifier\n",
    "from sklearn.model_selection import KFold\n",
    "from sklearn.model_selection import cross_val_score\n",
    "import sklearn.metrics\n",
    "from tqdm import tqdm\n",
    "from statistics import mean\n",
    "import time\n",
    "import datetime"
   ]
  },
  {
   "cell_type": "code",
   "execution_count": 13,
   "metadata": {},
   "outputs": [],
   "source": [
    "kf = KFold(n_splits= 5, random_state = 1, shuffle = True)"
   ]
  },
  {
   "cell_type": "code",
   "execution_count": 15,
   "metadata": {
    "tags": []
   },
   "outputs": [
    {
     "output_type": "stream",
     "name": "stdout",
     "text": "Iter       Train Loss   Remaining Time \n         1           1.3783            6.41s\n         2           1.3727            5.82s\n         3           1.3678            5.05s\n         4           1.3631            4.35s\n         5           1.3584            3.62s\n         6           1.3544            2.88s\n         7           1.3499            2.17s\n         8           1.3456            1.44s\n         9           1.3417            0.72s\n        10           1.3379            0.00s\n      Iter       Train Loss   Remaining Time \n         1           1.3784            6.44s\n         2           1.3730            5.73s\n         3           1.3678            4.97s\n         4           1.3634            4.27s\n         5           1.3590            3.56s\n         6           1.3544            2.84s\n         7           1.3502            2.14s\n         8           1.3457            1.42s\n         9           1.3417            0.71s\n        10           1.3381            0.00s\n      Iter       Train Loss   Remaining Time \n         1           1.3787            6.36s\n         2           1.3732            5.74s\n         3           1.3680            4.99s\n         4           1.3635            4.31s\n         5           1.3592            3.58s\n         6           1.3546            2.86s\n         7           1.3500            2.14s\n         8           1.3459            1.42s\n         9           1.3418            0.71s\n        10           1.3379            0.00s\n      Iter       Train Loss   Remaining Time \n         1           1.3784            6.27s\n         2           1.3728            5.61s\n         3           1.3677            4.88s\n         4           1.3631            4.19s\n         5           1.3586            3.52s\n         6           1.3538            2.84s\n         7           1.3494            2.17s\n         8           1.3453            1.46s\n         9           1.3412            0.73s\n        10           1.3372            0.00s\n      Iter       Train Loss   Remaining Time \n         1           1.3785            6.86s\n         2           1.3729            6.39s\n         3           1.3679            5.47s\n         4           1.3635            4.73s\n         5           1.3588            3.90s\n         6           1.3546            3.13s\n         7           1.3502            2.34s\n         8           1.3461            1.55s\n         9           1.3420            0.78s\n        10           1.3382            0.00s\n      Iter       Train Loss   Remaining Time \n         1           1.3783           15.42s\n         2           1.3727           14.03s\n         3           1.3678           13.33s\n         4           1.3631           12.51s\n         5           1.3584           11.75s\n         6           1.3544           11.07s\n         7           1.3499           10.23s\n         8           1.3456            9.48s\n         9           1.3417            8.64s\n        10           1.3379            7.87s\n        20           1.3081            0.00s\n      Iter       Train Loss   Remaining Time \n         1           1.3784           14.88s\n         2           1.3730           14.30s\n         3           1.3678           13.39s\n         4           1.3634           12.85s\n         5           1.3590           12.00s\n         6           1.3544           11.24s\n         7           1.3502           10.41s\n         8           1.3457            9.59s\n         9           1.3417            8.80s\n        10           1.3381            7.97s\n        20           1.3086            0.00s\n      Iter       Train Loss   Remaining Time \n         1           1.3787           14.78s\n         2           1.3732           14.54s\n         3           1.3680           13.65s\n         4           1.3635           12.83s\n         5           1.3592           12.08s\n         6           1.3546           11.14s\n         7           1.3500           10.39s\n         8           1.3459            9.53s\n         9           1.3418            8.75s\n        10           1.3379            7.92s\n        20           1.3077            0.00s\n      Iter       Train Loss   Remaining Time \n         1           1.3784           15.56s\n         2           1.3728           14.06s\n         3           1.3677           13.42s\n         4           1.3631           12.47s\n         5           1.3586           11.72s\n         6           1.3538           10.93s\n         7           1.3494           10.18s\n         8           1.3453            9.53s\n         9           1.3412            8.68s\n        10           1.3372            7.91s\n        20           1.3071            0.00s\n      Iter       Train Loss   Remaining Time \n         1           1.3785           15.54s\n         2           1.3729           15.21s\n         3           1.3679           14.34s\n         4           1.3635           13.22s\n         5           1.3588           12.29s\n         6           1.3546           11.41s\n         7           1.3502           10.51s\n         8           1.3461            9.73s\n         9           1.3420            8.86s\n        10           1.3382            8.17s\n        20           1.3082            0.00s\n      Iter       Train Loss   Remaining Time \n         1           1.3783           25.60s\n         2           1.3727           23.79s\n         3           1.3678           23.10s\n         4           1.3631           21.77s\n         5           1.3584           20.92s\n         6           1.3544           19.87s\n         7           1.3499           19.06s\n         8           1.3456           18.14s\n         9           1.3417           17.22s\n        10           1.3379           16.40s\n        20           1.3081            8.21s\n        30           1.2876            0.00s\n      Iter       Train Loss   Remaining Time \n         1           1.3784           21.32s\n         2           1.3730           20.43s\n         3           1.3678           19.77s\n         4           1.3634           18.92s\n         5           1.3590           18.29s\n         6           1.3544           17.47s\n         7           1.3502           16.67s\n         8           1.3457           15.95s\n         9           1.3417           15.18s\n        10           1.3381           14.47s\n        20           1.3086            7.21s\n        30           1.2886            0.00s\n      Iter       Train Loss   Remaining Time \n         1           1.3787           20.54s\n         2           1.3732           19.85s\n         3           1.3680           19.14s\n         4           1.3635           18.35s\n         5           1.3592           17.72s\n         6           1.3546           16.98s\n         7           1.3500           16.26s\n         8           1.3459           15.58s\n         9           1.3418           14.85s\n        10           1.3379           14.19s\n        20           1.3077            7.07s\n        30           1.2876            0.00s\n      Iter       Train Loss   Remaining Time \n         1           1.3784           20.97s\n         2           1.3728           19.97s\n         3           1.3677           19.29s\n         4           1.3631           18.49s\n         5           1.3586           17.78s\n         6           1.3538           17.05s\n         7           1.3494           16.31s\n         8           1.3453           15.60s\n         9           1.3412           14.88s\n        10           1.3372           14.17s\n        20           1.3071            7.07s\n        30           1.2864            0.00s\n      Iter       Train Loss   Remaining Time \n         1           1.3785           20.91s\n         2           1.3729           19.87s\n         3           1.3679           19.15s\n         4           1.3635           18.44s\n         5           1.3588           17.70s\n         6           1.3546           17.02s\n         7           1.3502           16.29s\n         8           1.3461           15.58s\n         9           1.3420           14.87s\n        10           1.3382           14.14s\n        20           1.3082            7.07s\n        30           1.2876            0.00s\n      Iter       Train Loss   Remaining Time \n         1           1.3783           27.73s\n         2           1.3727           26.95s\n         3           1.3678           26.31s\n         4           1.3631           25.82s\n         5           1.3584           25.00s\n         6           1.3544           24.23s\n         7           1.3499           23.48s\n         8           1.3456           22.72s\n         9           1.3417           22.02s\n        10           1.3379           21.28s\n        20           1.3081           14.14s\n        30           1.2876            7.06s\n        40           1.2727            0.00s\n      Iter       Train Loss   Remaining Time \n         1           1.3784           27.34s\n         2           1.3730           27.13s\n         3           1.3678           26.21s\n         4           1.3634           25.54s\n         5           1.3590           24.89s\n         6           1.3544           24.13s\n         7           1.3502           23.47s\n         8           1.3457           22.72s\n         9           1.3417           21.98s\n        10           1.3381           21.27s\n        20           1.3086           14.13s\n        30           1.2886            7.06s\n        40           1.2743            0.00s\n      Iter       Train Loss   Remaining Time \n         1           1.3787           27.54s\n         2           1.3732           26.81s\n         3           1.3680           26.11s\n         4           1.3635           25.39s\n         5           1.3592           24.80s\n         6           1.3546           24.06s\n         7           1.3500           23.35s\n         8           1.3459           22.68s\n         9           1.3418           21.98s\n        10           1.3379           21.33s\n        20           1.3077           14.15s\n        30           1.2876            7.07s\n        40           1.2731            0.00s\n      Iter       Train Loss   Remaining Time \n         1           1.3784           28.71s\n         2           1.3728           27.23s\n         3           1.3677           26.34s\n         4           1.3631           25.61s\n         5           1.3586           24.86s\n         6           1.3538           24.24s\n         7           1.3494           23.51s\n         8           1.3453           22.76s\n         9           1.3412           22.02s\n        10           1.3372           21.28s\n        20           1.3071           14.17s\n        30           1.2864            7.12s\n        40           1.2719            0.00s\n      Iter       Train Loss   Remaining Time \n         1           1.3785           29.49s\n         2           1.3729           28.07s\n         3           1.3679           27.14s\n         4           1.3635           26.23s\n         5           1.3588           25.32s\n         6           1.3546           24.61s\n         7           1.3502           23.89s\n         8           1.3461           23.21s\n         9           1.3420           22.52s\n        10           1.3382           21.84s\n        20           1.3082           14.54s\n        30           1.2876            7.20s\n        40           1.2728            0.00s\n      Iter       Train Loss   Remaining Time \n         1           1.3783           35.18s\n         2           1.3727           34.04s\n         3           1.3678           33.34s\n         4           1.3631           32.71s\n         5           1.3584           31.89s\n         6           1.3544           31.22s\n         7           1.3499           30.48s\n         8           1.3456           29.81s\n         9           1.3417           29.27s\n        10           1.3379           28.55s\n        20           1.3081           21.25s\n        30           1.2876           14.06s\n        40           1.2727            7.01s\n        50           1.2615            0.00s\n      Iter       Train Loss   Remaining Time \n         1           1.3784           33.92s\n         2           1.3730           33.22s\n         3           1.3678           32.53s\n         4           1.3634           31.89s\n         5           1.3590           31.41s\n         6           1.3544           31.02s\n         7           1.3502           30.66s\n         8           1.3457           29.94s\n         9           1.3417           29.18s\n        10           1.3381           28.71s\n        20           1.3086           21.63s\n        30           1.2886           14.32s\n        40           1.2743            7.13s\n        50           1.2629            0.00s\n      Iter       Train Loss   Remaining Time \n         1           1.3787           34.16s\n         2           1.3732           33.58s\n         3           1.3680           32.81s\n         4           1.3635           32.01s\n         5           1.3592           31.39s\n         6           1.3546           30.71s\n         7           1.3500           29.97s\n         8           1.3459           29.33s\n         9           1.3418           28.61s\n        10           1.3379           27.97s\n        20           1.3077           21.07s\n        30           1.2876           14.04s\n        40           1.2731            7.03s\n        50           1.2617            0.00s\n      Iter       Train Loss   Remaining Time \n         1           1.3784           35.33s\n         2           1.3728           33.89s\n         3           1.3677           33.42s\n         4           1.3631           32.66s\n         5           1.3586           31.86s\n         6           1.3538           31.29s\n         7           1.3494           30.60s\n         8           1.3453           30.02s\n         9           1.3412           29.25s\n        10           1.3372           28.44s\n        20           1.3071           21.22s\n        30           1.2864           14.09s\n        40           1.2719            7.05s\n        50           1.2605            0.00s\n      Iter       Train Loss   Remaining Time \n         1           1.3785           33.52s\n         2           1.3729           33.89s\n         3           1.3679           33.02s\n         4           1.3635           32.34s\n         5           1.3588           31.54s\n         6           1.3546           30.99s\n         7           1.3502           30.48s\n         8           1.3461           29.72s\n         9           1.3420           29.21s\n        10           1.3382           28.52s\n        20           1.3082           21.44s\n        30           1.2876           14.29s\n        40           1.2728            7.10s\n        50           1.2616            0.00s\n"
    }
   ],
   "source": [
    "scores_GBC = dict()\n",
    "time_GBC = dict()\n",
    "for i in [10, 20, 30, 40, 50]:\n",
    "    scores_GBC[i], time_GBC[i] = 0, 0\n",
    "    GBC = GradientBoostingClassifier( n_estimators=i, verbose=True)\n",
    "    start_time = datetime.datetime.now()\n",
    "    score = cross_val_score(GBC, X_train, y, cv = kf, scoring = 'roc_auc')\n",
    "    scores_GBC[i] = round(mean(score),4)\n",
    "    time_GBC[i] = datetime.datetime.now() - start_time"
   ]
  },
  {
   "cell_type": "code",
   "execution_count": 18,
   "metadata": {
    "tags": []
   },
   "outputs": [
    {
     "output_type": "stream",
     "name": "stdout",
     "text": "ROC-AUC for 10 trees is : 0.6648\n Time for 10 trees is : 0:00:37.108243\nROC-AUC for 20 trees is : 0.6821\n Time for 20 trees is : 0:01:20.862779\nROC-AUC for 30 trees is : 0.6897\n Time for 30 trees is : 0:01:49.451091\nROC-AUC for 40 trees is : 0.6939\n Time for 40 trees is : 0:02:22.526178\nROC-AUC for 50 trees is : 0.6971\n Time for 50 trees is : 0:02:57.431278\n"
    }
   ],
   "source": [
    "for i,j in scores_GBC.items():\n",
    "    print('ROC-AUC for', i, 'trees is :', str(j)+'\\n', \n",
    "            'Time for', i, 'trees is :', time_GBC[i])"
   ]
  },
  {
   "cell_type": "markdown",
   "metadata": {},
   "source": [
    "# PART II"
   ]
  },
  {
   "cell_type": "markdown",
   "metadata": {},
   "source": [
    "## 1) Оцените качество логистической регрессии (sklearn.linear_model.LogisticRegression с L2-регуляризацией) с помощью кросс-валидации по той же схеме, которая использовалась для градиентного бустинга. Подберите при этом лучший параметр регуляризации (C)."
   ]
  },
  {
   "cell_type": "code",
   "execution_count": 19,
   "metadata": {},
   "outputs": [],
   "source": [
    "from sklearn.preprocessing import StandardScaler\n",
    "from sklearn.linear_model import LogisticRegression\n",
    "import numpy as np\n",
    "from tqdm import tqdm\n",
    "from statistics import mean\n",
    "\n",
    "scaler = StandardScaler()\n",
    "X_train_scaled = scaler.fit_transform(X_train)"
   ]
  },
  {
   "cell_type": "code",
   "execution_count": 22,
   "metadata": {
    "tags": []
   },
   "outputs": [
    {
     "output_type": "stream",
     "name": "stderr",
     "text": "100%|██████████| 5/5 [00:13<00:00,  2.69s/it]\n"
    }
   ],
   "source": [
    "scores_log = dict()\n",
    "for c in tqdm([0.1,1,2,5,10]):\n",
    "    scores_log[c] = 0\n",
    "    log_reg = LogisticRegression( penalty='l2', C = c)\n",
    "    score = cross_val_score(log_reg, X_train_scaled, y, cv = kf, scoring = 'roc_auc')\n",
    "    scores_log[c] = round(mean(score), 4)"
   ]
  },
  {
   "cell_type": "code",
   "execution_count": 24,
   "metadata": {
    "tags": []
   },
   "outputs": [
    {
     "output_type": "stream",
     "name": "stdout",
     "text": "{0.1: 0.7164, 1: 0.7163, 2: 0.7163, 5: 0.7163, 10: 0.7163} \n\nThe best ROC-AUC score is with C= 0.1\n"
    }
   ],
   "source": [
    "max_key = max(scores_log, key=scores_log.get)\n",
    "print(scores_log,'\\n')\n",
    "print('The best ROC-AUC score is with C=', max_key)"
   ]
  },
  {
   "cell_type": "code",
   "execution_count": 25,
   "metadata": {},
   "outputs": [
    {
     "output_type": "display_data",
     "data": {
      "text/plain": "<Figure size 432x288 with 1 Axes>",
      "image/svg+xml": "<?xml version=\"1.0\" encoding=\"utf-8\" standalone=\"no\"?>\r\n<!DOCTYPE svg PUBLIC \"-//W3C//DTD SVG 1.1//EN\"\r\n  \"http://www.w3.org/Graphics/SVG/1.1/DTD/svg11.dtd\">\r\n<!-- Created with matplotlib (https://matplotlib.org/) -->\r\n<svg height=\"248.518125pt\" version=\"1.1\" viewBox=\"0 0 397.553125 248.518125\" width=\"397.553125pt\" xmlns=\"http://www.w3.org/2000/svg\" xmlns:xlink=\"http://www.w3.org/1999/xlink\">\r\n <defs>\r\n  <style type=\"text/css\">\r\n*{stroke-linecap:butt;stroke-linejoin:round;}\r\n  </style>\r\n </defs>\r\n <g id=\"figure_1\">\r\n  <g id=\"patch_1\">\r\n   <path d=\"M 0 248.518125 \r\nL 397.553125 248.518125 \r\nL 397.553125 0 \r\nL 0 0 \r\nz\r\n\" style=\"fill:none;\"/>\r\n  </g>\r\n  <g id=\"axes_1\">\r\n   <g id=\"patch_2\">\r\n    <path d=\"M 55.553125 224.64 \r\nL 390.353125 224.64 \r\nL 390.353125 7.2 \r\nL 55.553125 7.2 \r\nz\r\n\" style=\"fill:#ffffff;\"/>\r\n   </g>\r\n   <g id=\"matplotlib.axis_1\">\r\n    <g id=\"xtick_1\">\r\n     <g id=\"line2d_1\">\r\n      <defs>\r\n       <path d=\"M 0 0 \r\nL 0 3.5 \r\n\" id=\"m0b6fe88cf0\" style=\"stroke:#000000;stroke-width:0.8;\"/>\r\n      </defs>\r\n      <g>\r\n       <use style=\"stroke:#000000;stroke-width:0.8;\" x=\"67.696927\" xlink:href=\"#m0b6fe88cf0\" y=\"224.64\"/>\r\n      </g>\r\n     </g>\r\n     <g id=\"text_1\">\r\n      <!-- 0 -->\r\n      <defs>\r\n       <path d=\"M 31.78125 66.40625 \r\nQ 24.171875 66.40625 20.328125 58.90625 \r\nQ 16.5 51.421875 16.5 36.375 \r\nQ 16.5 21.390625 20.328125 13.890625 \r\nQ 24.171875 6.390625 31.78125 6.390625 \r\nQ 39.453125 6.390625 43.28125 13.890625 \r\nQ 47.125 21.390625 47.125 36.375 \r\nQ 47.125 51.421875 43.28125 58.90625 \r\nQ 39.453125 66.40625 31.78125 66.40625 \r\nz\r\nM 31.78125 74.21875 \r\nQ 44.046875 74.21875 50.515625 64.515625 \r\nQ 56.984375 54.828125 56.984375 36.375 \r\nQ 56.984375 17.96875 50.515625 8.265625 \r\nQ 44.046875 -1.421875 31.78125 -1.421875 \r\nQ 19.53125 -1.421875 13.0625 8.265625 \r\nQ 6.59375 17.96875 6.59375 36.375 \r\nQ 6.59375 54.828125 13.0625 64.515625 \r\nQ 19.53125 74.21875 31.78125 74.21875 \r\nz\r\n\" id=\"DejaVuSans-48\"/>\r\n      </defs>\r\n      <g transform=\"translate(64.515677 239.238437)scale(0.1 -0.1)\">\r\n       <use xlink:href=\"#DejaVuSans-48\"/>\r\n      </g>\r\n     </g>\r\n    </g>\r\n    <g id=\"xtick_2\">\r\n     <g id=\"line2d_2\">\r\n      <g>\r\n       <use style=\"stroke:#000000;stroke-width:0.8;\" x=\"129.18453\" xlink:href=\"#m0b6fe88cf0\" y=\"224.64\"/>\r\n      </g>\r\n     </g>\r\n     <g id=\"text_2\">\r\n      <!-- 2 -->\r\n      <defs>\r\n       <path d=\"M 19.1875 8.296875 \r\nL 53.609375 8.296875 \r\nL 53.609375 0 \r\nL 7.328125 0 \r\nL 7.328125 8.296875 \r\nQ 12.9375 14.109375 22.625 23.890625 \r\nQ 32.328125 33.6875 34.8125 36.53125 \r\nQ 39.546875 41.84375 41.421875 45.53125 \r\nQ 43.3125 49.21875 43.3125 52.78125 \r\nQ 43.3125 58.59375 39.234375 62.25 \r\nQ 35.15625 65.921875 28.609375 65.921875 \r\nQ 23.96875 65.921875 18.8125 64.3125 \r\nQ 13.671875 62.703125 7.8125 59.421875 \r\nL 7.8125 69.390625 \r\nQ 13.765625 71.78125 18.9375 73 \r\nQ 24.125 74.21875 28.421875 74.21875 \r\nQ 39.75 74.21875 46.484375 68.546875 \r\nQ 53.21875 62.890625 53.21875 53.421875 \r\nQ 53.21875 48.921875 51.53125 44.890625 \r\nQ 49.859375 40.875 45.40625 35.40625 \r\nQ 44.1875 33.984375 37.640625 27.21875 \r\nQ 31.109375 20.453125 19.1875 8.296875 \r\nz\r\n\" id=\"DejaVuSans-50\"/>\r\n      </defs>\r\n      <g transform=\"translate(126.00328 239.238437)scale(0.1 -0.1)\">\r\n       <use xlink:href=\"#DejaVuSans-50\"/>\r\n      </g>\r\n     </g>\r\n    </g>\r\n    <g id=\"xtick_3\">\r\n     <g id=\"line2d_3\">\r\n      <g>\r\n       <use style=\"stroke:#000000;stroke-width:0.8;\" x=\"190.672133\" xlink:href=\"#m0b6fe88cf0\" y=\"224.64\"/>\r\n      </g>\r\n     </g>\r\n     <g id=\"text_3\">\r\n      <!-- 4 -->\r\n      <defs>\r\n       <path d=\"M 37.796875 64.3125 \r\nL 12.890625 25.390625 \r\nL 37.796875 25.390625 \r\nz\r\nM 35.203125 72.90625 \r\nL 47.609375 72.90625 \r\nL 47.609375 25.390625 \r\nL 58.015625 25.390625 \r\nL 58.015625 17.1875 \r\nL 47.609375 17.1875 \r\nL 47.609375 0 \r\nL 37.796875 0 \r\nL 37.796875 17.1875 \r\nL 4.890625 17.1875 \r\nL 4.890625 26.703125 \r\nz\r\n\" id=\"DejaVuSans-52\"/>\r\n      </defs>\r\n      <g transform=\"translate(187.490883 239.238437)scale(0.1 -0.1)\">\r\n       <use xlink:href=\"#DejaVuSans-52\"/>\r\n      </g>\r\n     </g>\r\n    </g>\r\n    <g id=\"xtick_4\">\r\n     <g id=\"line2d_4\">\r\n      <g>\r\n       <use style=\"stroke:#000000;stroke-width:0.8;\" x=\"252.159737\" xlink:href=\"#m0b6fe88cf0\" y=\"224.64\"/>\r\n      </g>\r\n     </g>\r\n     <g id=\"text_4\">\r\n      <!-- 6 -->\r\n      <defs>\r\n       <path d=\"M 33.015625 40.375 \r\nQ 26.375 40.375 22.484375 35.828125 \r\nQ 18.609375 31.296875 18.609375 23.390625 \r\nQ 18.609375 15.53125 22.484375 10.953125 \r\nQ 26.375 6.390625 33.015625 6.390625 \r\nQ 39.65625 6.390625 43.53125 10.953125 \r\nQ 47.40625 15.53125 47.40625 23.390625 \r\nQ 47.40625 31.296875 43.53125 35.828125 \r\nQ 39.65625 40.375 33.015625 40.375 \r\nz\r\nM 52.59375 71.296875 \r\nL 52.59375 62.3125 \r\nQ 48.875 64.0625 45.09375 64.984375 \r\nQ 41.3125 65.921875 37.59375 65.921875 \r\nQ 27.828125 65.921875 22.671875 59.328125 \r\nQ 17.53125 52.734375 16.796875 39.40625 \r\nQ 19.671875 43.65625 24.015625 45.921875 \r\nQ 28.375 48.1875 33.59375 48.1875 \r\nQ 44.578125 48.1875 50.953125 41.515625 \r\nQ 57.328125 34.859375 57.328125 23.390625 \r\nQ 57.328125 12.15625 50.6875 5.359375 \r\nQ 44.046875 -1.421875 33.015625 -1.421875 \r\nQ 20.359375 -1.421875 13.671875 8.265625 \r\nQ 6.984375 17.96875 6.984375 36.375 \r\nQ 6.984375 53.65625 15.1875 63.9375 \r\nQ 23.390625 74.21875 37.203125 74.21875 \r\nQ 40.921875 74.21875 44.703125 73.484375 \r\nQ 48.484375 72.75 52.59375 71.296875 \r\nz\r\n\" id=\"DejaVuSans-54\"/>\r\n      </defs>\r\n      <g transform=\"translate(248.978487 239.238437)scale(0.1 -0.1)\">\r\n       <use xlink:href=\"#DejaVuSans-54\"/>\r\n      </g>\r\n     </g>\r\n    </g>\r\n    <g id=\"xtick_5\">\r\n     <g id=\"line2d_5\">\r\n      <g>\r\n       <use style=\"stroke:#000000;stroke-width:0.8;\" x=\"313.64734\" xlink:href=\"#m0b6fe88cf0\" y=\"224.64\"/>\r\n      </g>\r\n     </g>\r\n     <g id=\"text_5\">\r\n      <!-- 8 -->\r\n      <defs>\r\n       <path d=\"M 31.78125 34.625 \r\nQ 24.75 34.625 20.71875 30.859375 \r\nQ 16.703125 27.09375 16.703125 20.515625 \r\nQ 16.703125 13.921875 20.71875 10.15625 \r\nQ 24.75 6.390625 31.78125 6.390625 \r\nQ 38.8125 6.390625 42.859375 10.171875 \r\nQ 46.921875 13.96875 46.921875 20.515625 \r\nQ 46.921875 27.09375 42.890625 30.859375 \r\nQ 38.875 34.625 31.78125 34.625 \r\nz\r\nM 21.921875 38.8125 \r\nQ 15.578125 40.375 12.03125 44.71875 \r\nQ 8.5 49.078125 8.5 55.328125 \r\nQ 8.5 64.0625 14.71875 69.140625 \r\nQ 20.953125 74.21875 31.78125 74.21875 \r\nQ 42.671875 74.21875 48.875 69.140625 \r\nQ 55.078125 64.0625 55.078125 55.328125 \r\nQ 55.078125 49.078125 51.53125 44.71875 \r\nQ 48 40.375 41.703125 38.8125 \r\nQ 48.828125 37.15625 52.796875 32.3125 \r\nQ 56.78125 27.484375 56.78125 20.515625 \r\nQ 56.78125 9.90625 50.3125 4.234375 \r\nQ 43.84375 -1.421875 31.78125 -1.421875 \r\nQ 19.734375 -1.421875 13.25 4.234375 \r\nQ 6.78125 9.90625 6.78125 20.515625 \r\nQ 6.78125 27.484375 10.78125 32.3125 \r\nQ 14.796875 37.15625 21.921875 38.8125 \r\nz\r\nM 18.3125 54.390625 \r\nQ 18.3125 48.734375 21.84375 45.5625 \r\nQ 25.390625 42.390625 31.78125 42.390625 \r\nQ 38.140625 42.390625 41.71875 45.5625 \r\nQ 45.3125 48.734375 45.3125 54.390625 \r\nQ 45.3125 60.0625 41.71875 63.234375 \r\nQ 38.140625 66.40625 31.78125 66.40625 \r\nQ 25.390625 66.40625 21.84375 63.234375 \r\nQ 18.3125 60.0625 18.3125 54.390625 \r\nz\r\n\" id=\"DejaVuSans-56\"/>\r\n      </defs>\r\n      <g transform=\"translate(310.46609 239.238437)scale(0.1 -0.1)\">\r\n       <use xlink:href=\"#DejaVuSans-56\"/>\r\n      </g>\r\n     </g>\r\n    </g>\r\n    <g id=\"xtick_6\">\r\n     <g id=\"line2d_6\">\r\n      <g>\r\n       <use style=\"stroke:#000000;stroke-width:0.8;\" x=\"375.134943\" xlink:href=\"#m0b6fe88cf0\" y=\"224.64\"/>\r\n      </g>\r\n     </g>\r\n     <g id=\"text_6\">\r\n      <!-- 10 -->\r\n      <defs>\r\n       <path d=\"M 12.40625 8.296875 \r\nL 28.515625 8.296875 \r\nL 28.515625 63.921875 \r\nL 10.984375 60.40625 \r\nL 10.984375 69.390625 \r\nL 28.421875 72.90625 \r\nL 38.28125 72.90625 \r\nL 38.28125 8.296875 \r\nL 54.390625 8.296875 \r\nL 54.390625 0 \r\nL 12.40625 0 \r\nz\r\n\" id=\"DejaVuSans-49\"/>\r\n      </defs>\r\n      <g transform=\"translate(368.772443 239.238437)scale(0.1 -0.1)\">\r\n       <use xlink:href=\"#DejaVuSans-49\"/>\r\n       <use x=\"63.623047\" xlink:href=\"#DejaVuSans-48\"/>\r\n      </g>\r\n     </g>\r\n    </g>\r\n   </g>\r\n   <g id=\"matplotlib.axis_2\">\r\n    <g id=\"ytick_1\">\r\n     <g id=\"line2d_7\">\r\n      <defs>\r\n       <path d=\"M 0 0 \r\nL -3.5 0 \r\n\" id=\"m4d38ebc23d\" style=\"stroke:#000000;stroke-width:0.8;\"/>\r\n      </defs>\r\n      <g>\r\n       <use style=\"stroke:#000000;stroke-width:0.8;\" x=\"55.553125\" xlink:href=\"#m4d38ebc23d\" y=\"214.756364\"/>\r\n      </g>\r\n     </g>\r\n     <g id=\"text_7\">\r\n      <!-- 0.71630 -->\r\n      <defs>\r\n       <path d=\"M 10.6875 12.40625 \r\nL 21 12.40625 \r\nL 21 0 \r\nL 10.6875 0 \r\nz\r\n\" id=\"DejaVuSans-46\"/>\r\n       <path d=\"M 8.203125 72.90625 \r\nL 55.078125 72.90625 \r\nL 55.078125 68.703125 \r\nL 28.609375 0 \r\nL 18.3125 0 \r\nL 43.21875 64.59375 \r\nL 8.203125 64.59375 \r\nz\r\n\" id=\"DejaVuSans-55\"/>\r\n       <path d=\"M 40.578125 39.3125 \r\nQ 47.65625 37.796875 51.625 33 \r\nQ 55.609375 28.21875 55.609375 21.1875 \r\nQ 55.609375 10.40625 48.1875 4.484375 \r\nQ 40.765625 -1.421875 27.09375 -1.421875 \r\nQ 22.515625 -1.421875 17.65625 -0.515625 \r\nQ 12.796875 0.390625 7.625 2.203125 \r\nL 7.625 11.71875 \r\nQ 11.71875 9.328125 16.59375 8.109375 \r\nQ 21.484375 6.890625 26.8125 6.890625 \r\nQ 36.078125 6.890625 40.9375 10.546875 \r\nQ 45.796875 14.203125 45.796875 21.1875 \r\nQ 45.796875 27.640625 41.28125 31.265625 \r\nQ 36.765625 34.90625 28.71875 34.90625 \r\nL 20.21875 34.90625 \r\nL 20.21875 43.015625 \r\nL 29.109375 43.015625 \r\nQ 36.375 43.015625 40.234375 45.921875 \r\nQ 44.09375 48.828125 44.09375 54.296875 \r\nQ 44.09375 59.90625 40.109375 62.90625 \r\nQ 36.140625 65.921875 28.71875 65.921875 \r\nQ 24.65625 65.921875 20.015625 65.03125 \r\nQ 15.375 64.15625 9.8125 62.3125 \r\nL 9.8125 71.09375 \r\nQ 15.4375 72.65625 20.34375 73.4375 \r\nQ 25.25 74.21875 29.59375 74.21875 \r\nQ 40.828125 74.21875 47.359375 69.109375 \r\nQ 53.90625 64.015625 53.90625 55.328125 \r\nQ 53.90625 49.265625 50.4375 45.09375 \r\nQ 46.96875 40.921875 40.578125 39.3125 \r\nz\r\n\" id=\"DejaVuSans-51\"/>\r\n      </defs>\r\n      <g transform=\"translate(7.2 218.555582)scale(0.1 -0.1)\">\r\n       <use xlink:href=\"#DejaVuSans-48\"/>\r\n       <use x=\"63.623047\" xlink:href=\"#DejaVuSans-46\"/>\r\n       <use x=\"95.410156\" xlink:href=\"#DejaVuSans-55\"/>\r\n       <use x=\"159.033203\" xlink:href=\"#DejaVuSans-49\"/>\r\n       <use x=\"222.65625\" xlink:href=\"#DejaVuSans-54\"/>\r\n       <use x=\"286.279297\" xlink:href=\"#DejaVuSans-51\"/>\r\n       <use x=\"349.902344\" xlink:href=\"#DejaVuSans-48\"/>\r\n      </g>\r\n     </g>\r\n    </g>\r\n    <g id=\"ytick_2\">\r\n     <g id=\"line2d_8\">\r\n      <g>\r\n       <use style=\"stroke:#000000;stroke-width:0.8;\" x=\"55.553125\" xlink:href=\"#m4d38ebc23d\" y=\"175.221818\"/>\r\n      </g>\r\n     </g>\r\n     <g id=\"text_8\">\r\n      <!-- 0.71632 -->\r\n      <g transform=\"translate(7.2 179.021037)scale(0.1 -0.1)\">\r\n       <use xlink:href=\"#DejaVuSans-48\"/>\r\n       <use x=\"63.623047\" xlink:href=\"#DejaVuSans-46\"/>\r\n       <use x=\"95.410156\" xlink:href=\"#DejaVuSans-55\"/>\r\n       <use x=\"159.033203\" xlink:href=\"#DejaVuSans-49\"/>\r\n       <use x=\"222.65625\" xlink:href=\"#DejaVuSans-54\"/>\r\n       <use x=\"286.279297\" xlink:href=\"#DejaVuSans-51\"/>\r\n       <use x=\"349.902344\" xlink:href=\"#DejaVuSans-50\"/>\r\n      </g>\r\n     </g>\r\n    </g>\r\n    <g id=\"ytick_3\">\r\n     <g id=\"line2d_9\">\r\n      <g>\r\n       <use style=\"stroke:#000000;stroke-width:0.8;\" x=\"55.553125\" xlink:href=\"#m4d38ebc23d\" y=\"135.687273\"/>\r\n      </g>\r\n     </g>\r\n     <g id=\"text_9\">\r\n      <!-- 0.71634 -->\r\n      <g transform=\"translate(7.2 139.486491)scale(0.1 -0.1)\">\r\n       <use xlink:href=\"#DejaVuSans-48\"/>\r\n       <use x=\"63.623047\" xlink:href=\"#DejaVuSans-46\"/>\r\n       <use x=\"95.410156\" xlink:href=\"#DejaVuSans-55\"/>\r\n       <use x=\"159.033203\" xlink:href=\"#DejaVuSans-49\"/>\r\n       <use x=\"222.65625\" xlink:href=\"#DejaVuSans-54\"/>\r\n       <use x=\"286.279297\" xlink:href=\"#DejaVuSans-51\"/>\r\n       <use x=\"349.902344\" xlink:href=\"#DejaVuSans-52\"/>\r\n      </g>\r\n     </g>\r\n    </g>\r\n    <g id=\"ytick_4\">\r\n     <g id=\"line2d_10\">\r\n      <g>\r\n       <use style=\"stroke:#000000;stroke-width:0.8;\" x=\"55.553125\" xlink:href=\"#m4d38ebc23d\" y=\"96.152727\"/>\r\n      </g>\r\n     </g>\r\n     <g id=\"text_10\">\r\n      <!-- 0.71636 -->\r\n      <g transform=\"translate(7.2 99.951946)scale(0.1 -0.1)\">\r\n       <use xlink:href=\"#DejaVuSans-48\"/>\r\n       <use x=\"63.623047\" xlink:href=\"#DejaVuSans-46\"/>\r\n       <use x=\"95.410156\" xlink:href=\"#DejaVuSans-55\"/>\r\n       <use x=\"159.033203\" xlink:href=\"#DejaVuSans-49\"/>\r\n       <use x=\"222.65625\" xlink:href=\"#DejaVuSans-54\"/>\r\n       <use x=\"286.279297\" xlink:href=\"#DejaVuSans-51\"/>\r\n       <use x=\"349.902344\" xlink:href=\"#DejaVuSans-54\"/>\r\n      </g>\r\n     </g>\r\n    </g>\r\n    <g id=\"ytick_5\">\r\n     <g id=\"line2d_11\">\r\n      <g>\r\n       <use style=\"stroke:#000000;stroke-width:0.8;\" x=\"55.553125\" xlink:href=\"#m4d38ebc23d\" y=\"56.618182\"/>\r\n      </g>\r\n     </g>\r\n     <g id=\"text_11\">\r\n      <!-- 0.71638 -->\r\n      <g transform=\"translate(7.2 60.417401)scale(0.1 -0.1)\">\r\n       <use xlink:href=\"#DejaVuSans-48\"/>\r\n       <use x=\"63.623047\" xlink:href=\"#DejaVuSans-46\"/>\r\n       <use x=\"95.410156\" xlink:href=\"#DejaVuSans-55\"/>\r\n       <use x=\"159.033203\" xlink:href=\"#DejaVuSans-49\"/>\r\n       <use x=\"222.65625\" xlink:href=\"#DejaVuSans-54\"/>\r\n       <use x=\"286.279297\" xlink:href=\"#DejaVuSans-51\"/>\r\n       <use x=\"349.902344\" xlink:href=\"#DejaVuSans-56\"/>\r\n      </g>\r\n     </g>\r\n    </g>\r\n    <g id=\"ytick_6\">\r\n     <g id=\"line2d_12\">\r\n      <g>\r\n       <use style=\"stroke:#000000;stroke-width:0.8;\" x=\"55.553125\" xlink:href=\"#m4d38ebc23d\" y=\"17.083636\"/>\r\n      </g>\r\n     </g>\r\n     <g id=\"text_12\">\r\n      <!-- 0.71640 -->\r\n      <g transform=\"translate(7.2 20.882855)scale(0.1 -0.1)\">\r\n       <use xlink:href=\"#DejaVuSans-48\"/>\r\n       <use x=\"63.623047\" xlink:href=\"#DejaVuSans-46\"/>\r\n       <use x=\"95.410156\" xlink:href=\"#DejaVuSans-55\"/>\r\n       <use x=\"159.033203\" xlink:href=\"#DejaVuSans-49\"/>\r\n       <use x=\"222.65625\" xlink:href=\"#DejaVuSans-54\"/>\r\n       <use x=\"286.279297\" xlink:href=\"#DejaVuSans-52\"/>\r\n       <use x=\"349.902344\" xlink:href=\"#DejaVuSans-48\"/>\r\n      </g>\r\n     </g>\r\n    </g>\r\n   </g>\r\n   <g id=\"line2d_13\">\r\n    <path clip-path=\"url(#p0ad5b523c5)\" d=\"M 70.771307 17.083636 \r\nL 98.440728 214.756364 \r\nL 129.18453 214.756364 \r\nL 221.415935 214.756364 \r\nL 375.134943 214.756364 \r\n\" style=\"fill:none;stroke:#1f77b4;stroke-linecap:square;stroke-width:1.5;\"/>\r\n   </g>\r\n   <g id=\"patch_3\">\r\n    <path d=\"M 55.553125 224.64 \r\nL 55.553125 7.2 \r\n\" style=\"fill:none;stroke:#000000;stroke-linecap:square;stroke-linejoin:miter;stroke-width:0.8;\"/>\r\n   </g>\r\n   <g id=\"patch_4\">\r\n    <path d=\"M 390.353125 224.64 \r\nL 390.353125 7.2 \r\n\" style=\"fill:none;stroke:#000000;stroke-linecap:square;stroke-linejoin:miter;stroke-width:0.8;\"/>\r\n   </g>\r\n   <g id=\"patch_5\">\r\n    <path d=\"M 55.553125 224.64 \r\nL 390.353125 224.64 \r\n\" style=\"fill:none;stroke:#000000;stroke-linecap:square;stroke-linejoin:miter;stroke-width:0.8;\"/>\r\n   </g>\r\n   <g id=\"patch_6\">\r\n    <path d=\"M 55.553125 7.2 \r\nL 390.353125 7.2 \r\n\" style=\"fill:none;stroke:#000000;stroke-linecap:square;stroke-linejoin:miter;stroke-width:0.8;\"/>\r\n   </g>\r\n  </g>\r\n </g>\r\n <defs>\r\n  <clipPath id=\"p0ad5b523c5\">\r\n   <rect height=\"217.44\" width=\"334.8\" x=\"55.553125\" y=\"7.2\"/>\r\n  </clipPath>\r\n </defs>\r\n</svg>\r\n",
      "image/png": "[encoded data removed]"
     },
     "metadata": {
      "needs_background": "light"
     }
    }
   ],
   "source": [
    "import matplotlib.pyplot as plt\n",
    "lists = sorted(scores_log.items())\n",
    "x, y1 = zip(*lists)\n",
    "plt.plot(x, y1)\n",
    "plt.show()"
   ]
  },
  {
   "cell_type": "markdown",
   "metadata": {},
   "source": [
    "## 2) Среди признаков в выборке есть категориальные, которые мы использовали как числовые, что вряд ли является хорошей идеей. Категориальных признаков в этой задаче одиннадцать: lobby_type и r1_hero, r2_hero, ..., r5_hero, d1_hero, d2_hero, ..., d5_hero. Уберите их из выборки, и проведите кросс-валидацию для логистической регрессии на новой выборке с подбором лучшего параметра регуляризации."
   ]
  },
  {
   "cell_type": "code",
   "execution_count": 26,
   "metadata": {},
   "outputs": [],
   "source": [
    "X_train_clear = X_train.drop(['lobby_type','r1_hero' , 'r2_hero', 'r3_hero', 'r4_hero', 'r5_hero', 'd1_hero', 'd2_hero', 'd3_hero', 'd4_hero', 'd5_hero'], axis = 1)\n",
    "X_train_clear_scaled = scaler.fit_transform(X_train_clear)"
   ]
  },
  {
   "cell_type": "code",
   "execution_count": 29,
   "metadata": {
    "tags": []
   },
   "outputs": [
    {
     "output_type": "stream",
     "name": "stderr",
     "text": "100%|██████████| 5/5 [00:12<00:00,  2.46s/it]\n"
    }
   ],
   "source": [
    "scores_log_clear = dict()\n",
    "for c in tqdm([0.1,1,2,5,10]):\n",
    "    scores_log_clear[c] = 0\n",
    "    log_reg_2 = LogisticRegression( penalty='l2', C = c)\n",
    "    score = cross_val_score(log_reg_2, X_train_clear_scaled, y, cv = kf, scoring = 'roc_auc')\n",
    "    scores_log_clear[c] = round(mean(score), 4)"
   ]
  },
  {
   "cell_type": "code",
   "execution_count": 31,
   "metadata": {
    "tags": []
   },
   "outputs": [
    {
     "output_type": "stream",
     "name": "stdout",
     "text": "{0.1: 0.7164, 1: 0.7164, 2: 0.7164, 5: 0.7164, 10: 0.7164} \n\nThe best ROC-AUC score is with C= 0.1\n"
    }
   ],
   "source": [
    "max_key = max(scores_log_clear, key=scores_log_clear.get)\n",
    "print(scores_log_clear,'\\n')\n",
    "print('The best ROC-AUC score is with C=', max_key)"
   ]
  },
  {
   "cell_type": "markdown",
   "metadata": {},
   "source": [
    "## 3) На предыдущем шаге мы исключили из выборки признаки rM_hero и dM_hero, которые показывают, какие именно герои играли за каждую команду. Это важные признаки — герои имеют разные характеристики, и некоторые из них выигрывают чаще, чем другие. Выясните из данных, сколько различных идентификаторов героев существует в данной игре"
   ]
  },
  {
   "cell_type": "code",
   "execution_count": 32,
   "metadata": {
    "tags": []
   },
   "outputs": [
    {
     "output_type": "stream",
     "name": "stdout",
     "text": "d1_hero values 108\nd2_hero values 108\nd3_hero values 108\nd4_hero values 108\nd5_hero values 108\n"
    }
   ],
   "source": [
    "for i in range(1,6):\n",
    "    print('d'+str(i)+'_hero values',len(features['r'+str(i)+'_hero'].unique().tolist()))"
   ]
  },
  {
   "cell_type": "markdown",
   "metadata": {},
   "source": [
    "## 4) Воспользуемся подходом \"мешок слов\" для кодирования информации о героях. Пусть всего в игре имеет N различных героев. Сформируем N признаков, при этом i-й будет равен нулю, если i-й герой не участвовал в матче; единице, если i-й герой играл за команду Radiant; минус единице, если i-й герой играл за команду Dire. Ниже вы можете найти код, который выполняет данной преобразование. Добавьте полученные признаки к числовым, которые вы использовали во втором пункте данного этапа."
   ]
  },
  {
   "cell_type": "code",
   "execution_count": 40,
   "metadata": {
    "tags": []
   },
   "outputs": [],
   "source": [
    "X_pick = np.zeros((X_train.shape[0], 112))\n",
    "for i, match_id in enumerate(X_train.index):\n",
    "    for p in range(5):\n",
    "        X_pick[i, X_train.loc[match_id, 'r%d_hero' % (p+1)]-1] = 1\n",
    "        X_pick[i, X_train.loc[match_id, 'd%d_hero' % (p+1)]-1] = -1"
   ]
  },
  {
   "cell_type": "code",
   "execution_count": 41,
   "metadata": {},
   "outputs": [],
   "source": [
    "X_train_clear_2 = np.concatenate((X_train_clear.values, X_pick), axis=1)"
   ]
  },
  {
   "cell_type": "code",
   "execution_count": 42,
   "metadata": {},
   "outputs": [],
   "source": [
    "X_train_clear_2_scaled = scaler.fit_transform(X_train_clear_2)"
   ]
  },
  {
   "cell_type": "code",
   "execution_count": 44,
   "metadata": {
    "tags": []
   },
   "outputs": [
    {
     "output_type": "stream",
     "name": "stderr",
     "text": "100%|██████████| 5/5 [00:24<00:00,  4.94s/it]\n"
    }
   ],
   "source": [
    "scores_log_clear_2 = dict()\n",
    "for c in tqdm([0.1,1,2,5,10]):\n",
    "    scores_log_clear[c] = 0\n",
    "    log_reg = LogisticRegression( penalty='l2', C = c)\n",
    "    score = cross_val_score(log_reg, X_train_clear_2_scaled, y, cv = kf, scoring = 'roc_auc')\n",
    "    scores_log_clear_2[c] = round(mean(score), 4)"
   ]
  },
  {
   "cell_type": "markdown",
   "metadata": {},
   "source": [
    "## 5) Проведите кросс-валидацию для логистической регрессии на новой выборке с подбором лучшего параметра регуляризации.\n",
    "### Точность лог.рег после bag of words"
   ]
  },
  {
   "cell_type": "code",
   "execution_count": 45,
   "metadata": {
    "tags": []
   },
   "outputs": [
    {
     "output_type": "stream",
     "name": "stdout",
     "text": "{0.1: 0.7519, 1: 0.7519, 2: 0.7519, 5: 0.7519, 10: 0.7519} \n\nThe best ROC-AUC score is with C= 0.1\n"
    }
   ],
   "source": [
    "max_key = max(scores_log_clear_2, key=scores_log_clear_2.get)\n",
    "print(scores_log_clear_2,'\\n')\n",
    "print('The best ROC-AUC score is with C=', max_key)"
   ]
  },
  {
   "cell_type": "markdown",
   "metadata": {},
   "source": [
    "## 6) Постройте предсказания вероятностей победы команды Radiant для тестовой выборки с помощью лучшей из изученных моделей (лучшей с точки зрения AUC-ROC на кросс-валидации)"
   ]
  },
  {
   "cell_type": "code",
   "execution_count": 46,
   "metadata": {},
   "outputs": [],
   "source": [
    "X_pick_test = np.zeros((X_test.shape[0], 112))\n",
    "for i, match_id in enumerate(X_test.index):\n",
    "    for p in range(5):\n",
    "        X_pick_test[i, X_test.loc[match_id, 'r%d_hero' % (p+1)]-1] = 1\n",
    "        X_pick_test[i, X_test.loc[match_id, 'd%d_hero' % (p+1)]-1] = -1"
   ]
  },
  {
   "cell_type": "code",
   "execution_count": 47,
   "metadata": {},
   "outputs": [],
   "source": [
    "X_test_clear = X_test.drop(['lobby_type','r1_hero' , 'r2_hero', 'r3_hero', 'r4_hero', 'r5_hero', 'd1_hero', 'd2_hero', 'd3_hero', 'd4_hero', 'd5_hero'], axis = 1)\n",
    "X_test_bag = np.concatenate((X_test_clear.values, X_pick_test), axis=1)\n",
    "X_test_bag =  scaler.fit_transform(X_test_bag)"
   ]
  },
  {
   "cell_type": "code",
   "execution_count": 50,
   "metadata": {},
   "outputs": [
    {
     "output_type": "execute_result",
     "data": {
      "text/plain": "array([[0.17525657, 0.82474343],\n       [0.24168316, 0.75831684],\n       [0.8128029 , 0.1871971 ],\n       ...,\n       [0.76857943, 0.23142057],\n       [0.36805462, 0.63194538],\n       [0.57369078, 0.42630922]])"
     },
     "metadata": {},
     "execution_count": 50
    }
   ],
   "source": [
    "log_reg = LogisticRegression( penalty='l2', C = 0.1)\n",
    "log_reg.fit(X_train_clear_2_scaled, y)\n",
    "test_pred = log_reg.predict_proba(X_test_bag)\n",
    "test_pred"
   ]
  },
  {
   "cell_type": "code",
   "execution_count": 51,
   "metadata": {
    "tags": []
   },
   "outputs": [
    {
     "output_type": "stream",
     "name": "stdout",
     "text": "min value for radiant win is 0.0087\nmax value for radiant win is 0.9965\n"
    }
   ],
   "source": [
    "print('min value for radiant win is', round(min(test_pred[:,1]), 4))\n",
    "print('max value for radiant win is', round(max(test_pred[:,1]),4))"
   ]
  },
  {
   "cell_type": "code",
   "execution_count": 52,
   "metadata": {},
   "outputs": [
    {
     "output_type": "execute_result",
     "data": {
      "text/plain": "match_id\n6         0.824743\n7         0.758317\n10        0.187197\n13        0.859135\n16        0.237983\n            ...   \n114369    0.720258\n114377    0.632606\n114378    0.231421\n114393    0.631945\n114398    0.426309\nLength: 17177, dtype: float64"
     },
     "metadata": {},
     "execution_count": 52
    }
   ],
   "source": [
    "final =pd.Series(test_pred[:,1], index = X_test.index)\n",
    "final"
   ]
  },
  {
   "cell_type": "code",
   "execution_count": 104,
   "metadata": {},
   "outputs": [],
   "source": [
    "final.to_csv('final.csv')"
   ]
  }
 ]
}