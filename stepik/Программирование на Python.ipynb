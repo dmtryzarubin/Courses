{
 "cells": [
  {
   "cell_type": "markdown",
   "metadata": {},
   "source": [
    "# [Программирование на Python](https://stepik.org/course/67/syllabus)"
   ]
  },
  {
   "cell_type": "markdown",
   "metadata": {},
   "source": [
    "# 1.8 Переменные. Стандартный ввод/вывод"
   ]
  },
  {
   "cell_type": "markdown",
   "metadata": {},
   "source": [
    "## 1.8.1\n",
    "\n",
    "### Тимофей обычно спит ночью XX часов и устраивает себе днем тихий час на YY минут. Определите, сколько всего минут Тимофей спит в сутки."
   ]
  },
  {
   "cell_type": "code",
   "execution_count": null,
   "metadata": {},
   "outputs": [],
   "source": [
    "X = int(input())\n",
    "Y = int(input())\n",
    "print(X*60 + Y)"
   ]
  },
  {
   "cell_type": "markdown",
   "metadata": {},
   "source": [
    "## 1.8.2 \n",
    "### Коля каждый день ложится спать ровно в полночь и недавно узнал, что оптимальное время для его сна составляет X минут. Коля хочет поставить себе будильник так, чтобы он прозвенел ровно через X минут после полуночи, однако для этого необходимо указать время сигнала в формате часы, минуты. Помогите Коле определить, на какое время завести будильник."
   ]
  },
  {
   "cell_type": "code",
   "execution_count": 27,
   "metadata": {},
   "outputs": [
    {
     "output_type": "stream",
     "name": "stdout",
     "text": "8\n32\n"
    }
   ],
   "source": [
    "min = int(input())\n",
    "print(min//60)\n",
    "print(min%60)"
   ]
  },
  {
   "cell_type": "markdown",
   "metadata": {},
   "source": [
    "## 1.8.3 \n",
    "### Катя узнала, что ей для сна надо X минут. В отличие от Коли, Катя ложится спать после полуночи в H часов и M минут. Помогите Кате определить, на какое время ей поставить будильник, чтобы он прозвенел ровно через X минут после того, как она ляжет спать.\n",
    "\n",
    "### На стандартный ввод, каждое в своей строке, подаются значения X, H и M. Гарантируется, что Катя должна проснуться в тот же день, что и заснуть. Программа должна выводить время, на которое нужно поставить будильник: в первой строке часы, во второй — минуты."
   ]
  },
  {
   "cell_type": "code",
   "execution_count": 31,
   "metadata": {},
   "outputs": [
    {
     "output_type": "stream",
     "name": "stdout",
     "text": "9\n50\n"
    }
   ],
   "source": [
    "X = int(input())\n",
    "H = int(input())\n",
    "M = int(input())\n",
    "\n",
    "hours = H*60 + M + X\n",
    "print(hours//60)\n",
    "print(hours%60)"
   ]
  },
  {
   "cell_type": "markdown",
   "metadata": {},
   "source": [
    "## 1.10.1\n",
    "### Из передачи “Здоровье” Аня узнала, что рекомендуется спать хотя бы AA часов в сутки, но пересыпать тоже вредно и не стоит спать более BB часов. Сейчас Аня спит HH часов в сутки. Если режим сна Ани удовлетворяет рекомендациям передачи “Здоровье”, выведите “Это нормально”. Если Аня спит менее AA часов, выведите “Недосып”, если же более BB часов, то выведите “Пересып”.\n",
    "\n",
    "### Получаемое число AA всегда меньше либо равно BB.\n",
    "\n",
    "### На вход программе в три строки подаются переменные в следующем порядке: AA, BB, HH."
   ]
  },
  {
   "cell_type": "code",
   "execution_count": null,
   "metadata": {},
   "outputs": [],
   "source": [
    "a = int(input())\n",
    "b = int(input())\n",
    "h = int(input())\n",
    "if h < a:\n",
    "    print('Недосып')\n",
    "elif h > b:\n",
    "    print('Пересып')\n",
    "else:\n",
    "    print('Это нормально')"
   ]
  },
  {
   "cell_type": "markdown",
   "metadata": {},
   "source": [
    "## 1.10.2\n",
    "### Требуется определить, является ли данный год високосным.\n",
    "\n",
    "### Напомним, что високосными годами считаются те годы, порядковый номер которых либо кратен 4, но при этом не кратен 100, либо кратен 400 (например, 2000-й год являлся високосным, а 2100-й будет невисокосным годом).\n",
    "\n",
    "### Программа должна корректно работать на числах 1900≤n≤3000.\n",
    "\n",
    "### Выведите \"Високосный\" в случае, если считанный год является високосным и \"Обычный\" в обратном случае (не забывайте проверять регистр выводимых программой символов)."
   ]
  },
  {
   "cell_type": "code",
   "execution_count": null,
   "metadata": {},
   "outputs": [],
   "source": [
    "year = int(input())\n",
    "if year%4 == 0  and year%100 != 0 :\n",
    "    print('Високосный')\n",
    "elif year%400 == 0:\n",
    "    print('Високосный')\n",
    "else:\n",
    "    print('Обычный') "
   ]
  },
  {
   "cell_type": "markdown",
   "metadata": {},
   "source": [
    "## 1.12.1\n",
    "### В то далёкое время, когда Паша ходил в школу, ему очень не нравилась формула Герона для вычисления площади треугольника, так как казалась слишком сложной. В один прекрасный момент Павел решил избавить всех школьников от страданий и написать и распространить по школам программу, вычисляющую площадь треугольника по трём сторонам.\n",
    "\n",
    "### Одна проблема: так как эта формула не нравилась Павлу, он её не запомнил. Помогите ему завершить доброе дело и напишите программу, вычисляющую площадь треугольника по переданным длинам трёх его сторон по формуле Герона"
   ]
  },
  {
   "cell_type": "code",
   "execution_count": null,
   "metadata": {},
   "outputs": [],
   "source": [
    "a = int(input())\n",
    "b = int(input())\n",
    "c = int(input())\n",
    "p = (a+b+c)/2\n",
    "S = (p*(p-a)*(p-b)*(p-c))**0.5\n",
    "print(S) "
   ]
  },
  {
   "cell_type": "markdown",
   "metadata": {},
   "source": [
    "## 1.12.2\n",
    "### Напишите программу, принимающую на вход целое число, которая выводит True, если переданное значение попадает в интервал (-15, 12] U (14, 17) U [19, +∞) и False в противном случае (регистр символов имеет значение)."
   ]
  },
  {
   "cell_type": "code",
   "execution_count": null,
   "metadata": {},
   "outputs": [],
   "source": [
    "a = int(input())\n",
    "if a > -15 and a <= 12:\n",
    "    print('True')\n",
    "elif a>14 and a<17:\n",
    "    print('True')\n",
    "elif a>=19:\n",
    "    print('True')\n",
    "else:\n",
    "    print('False')"
   ]
  },
  {
   "cell_type": "markdown",
   "metadata": {},
   "source": [
    "## 1.12.3\n",
    "### Напишите простой калькулятор, который считывает с пользовательского ввода три строки: первое число, второе число и операцию, после чего применяет операцию к введённым числам (\"первое число\" \"операция\" \"второе число\") и выводит результат на экран.\n",
    "\n",
    "### Поддерживаемые операции: +, -, /, *, mod, pow, div, где\n",
    "### mod — это взятие остатка от деления,\n",
    "### pow — возведение в степень,\n",
    "### div — целочисленное деление.\n",
    "\n",
    "### Если выполняется деление и второе число равно 0, необходимо выводить строку \"Деление на 0!\"."
   ]
  },
  {
   "cell_type": "code",
   "execution_count": null,
   "metadata": {},
   "outputs": [],
   "source": [
    "a = float(input())\n",
    "b = float(input())\n",
    "c = input()\n",
    "\n",
    "if c == '+':\n",
    "    print(a+b)\n",
    "elif c == '-':\n",
    "    print(a-b)\n",
    "elif c == '*':\n",
    "    print(a*b)\n",
    "elif c == '/':\n",
    "    if b!=0:\n",
    "        print(a/b)\n",
    "    else:\n",
    "        print('Деление на 0!')\n",
    "elif c == 'mod':\n",
    "    if b!=0:\n",
    "        print(a%b)\n",
    "    else:\n",
    "        print('Деление на 0!')\n",
    "elif c == 'pow':\n",
    "    print(a**b)\n",
    "elif c == 'div':\n",
    "    if b!=0:\n",
    "        print(a//b)\n",
    "    else:\n",
    "        print('Деление на 0!')"
   ]
  },
  {
   "cell_type": "markdown",
   "metadata": {},
   "source": [
    "## 1.12.4\n",
    "### Жители страны Малевии часто экспериментируют с планировкой комнат. Комнаты бывают треугольные, прямоугольные и круглые. Чтобы быстро вычислять жилплощадь, требуется написать программу, на вход которой подаётся тип фигуры комнаты и соответствующие параметры, которая бы выводила площадь получившейся комнаты.\n",
    "### Для числа π в стране Малевии используют значение 3.14."
   ]
  },
  {
   "cell_type": "code",
   "execution_count": null,
   "metadata": {},
   "outputs": [],
   "source": [
    "pi = 3.14\n",
    "fig = input()\n",
    "if fig == 'треугольник':\n",
    "    a = float(input())\n",
    "    b = float(input())\n",
    "    c = float(input())\n",
    "    p = (a+b+c)/2\n",
    "    print((p*(p-a)*(p-b)*(p-c))**0.5)\n",
    "elif fig =='прямоугольник':\n",
    "    a = float(input())\n",
    "    b = float(input())\n",
    "    print(a*b)\n",
    "elif fig == 'круг':\n",
    "    r = float(input())\n",
    "    print(pi*(r**2))"
   ]
  },
  {
   "cell_type": "markdown",
   "metadata": {},
   "source": [
    "## 1.12.5\n",
    "### Напишите программу, которая получает на вход три целых числа, по одному числу в строке, и выводит на консоль в три строки сначала максимальное, потом минимальное, после чего оставшееся число.\n",
    "\n",
    "### На ввод могут подаваться и повторяющиеся числа."
   ]
  },
  {
   "cell_type": "code",
   "execution_count": null,
   "metadata": {},
   "outputs": [],
   "source": [
    "a=int(input())\n",
    "b=int(input())\n",
    "c=int(input())\n",
    "if a >= b and a >= c:\n",
    "    print(a)\n",
    "    if b >= c:\n",
    "        print(c)\n",
    "        print(b)\n",
    "    elif b <= c:\n",
    "        print(b)\n",
    "        print(c)\n",
    "elif b >= a and b >= c:\n",
    "    print(b)\n",
    "    if a >= c:\n",
    "        print(c)\n",
    "        print(a)\n",
    "    else: \n",
    "        print(a)\n",
    "        print(c)\n",
    "elif c >= a and c >= b:\n",
    "    print(c)\n",
    "    if a >= b:\n",
    "        print(b)\n",
    "        print(a)\n",
    "    else:\n",
    "        print(a)\n",
    "        print(b)"
   ]
  },
  {
   "cell_type": "markdown",
   "metadata": {},
   "source": [
    "## 1.12.6\n",
    "### В институте биоинформатики по офису передвигается робот. Недавно студенты из группы программистов написали для него программу, по которой робот, когда заходит в комнату, считает количество программистов в ней и произносит его вслух: \"n программистов\".\n",
    "\n",
    "### Для того, чтобы это звучало правильно, для каждого nn нужно использовать верное окончание слова.\n",
    "\n",
    "### Напишите программу, считывающую с пользовательского ввода целое число nn (неотрицательное), выводящее это число в консоль вместе с правильным образом изменённым словом \"программист\", для того, чтобы робот мог нормально общаться с людьми, например: 1 программист, 2 программиста, 5 программистов.\n",
    "\n",
    "### В комнате может быть очень много программистов. Проверьте, что ваша программа правильно обработает все случаи, как минимум до 1000 человек."
   ]
  },
  {
   "cell_type": "code",
   "execution_count": null,
   "metadata": {},
   "outputs": [],
   "source": [
    "num = input()\n",
    "num_int = int(num)\n",
    "last = len(num) - 1\n",
    "if num[last] == '1'and num[last-1]!='1':\n",
    "    print (num + ' программист')\n",
    "if num_int == 1:\n",
    "    print (num + ' программист')\n",
    "elif num[last] == '0':\n",
    "    print (num + ' программистов')\n",
    "elif num[last-1] == '1':\n",
    "    print(num + ' программистов') \n",
    "elif num[last] == '0' or num[last] == '5' or num[last] == '6' or num[last] == '7' or num[last] == '8' or num[last] =='9':\n",
    "    print (num + ' программистов')\n",
    "elif num[last] == '2' or num[last] == '3' or num[last] == '4':\n",
    "    print(num + ' программиста')"
   ]
  },
  {
   "cell_type": "markdown",
   "metadata": {},
   "source": [
    "## 1.12.7\n",
    "### Паша очень любит кататься на общественном транспорте, а получая билет, сразу проверяет, счастливый ли ему попался. Билет считается счастливым, если сумма первых трех цифр совпадает с суммой последних трех цифр номера билета.\n",
    "\n",
    "### Однако Паша очень плохо считает в уме, поэтому попросил вас написать программу, которая проверит равенство сумм и выведет \"Счастливый\", если суммы совпадают, и \"Обычный\", если суммы различны.\n",
    "\n",
    "### На вход программе подаётся строка из шести цифр.\n",
    "\n",
    "### Выводить нужно только слово \"Счастливый\" или \"Обычный\", с большой буквы."
   ]
  },
  {
   "cell_type": "code",
   "execution_count": null,
   "metadata": {},
   "outputs": [],
   "source": [
    "bil = input()\n",
    "if int(bil[0])+int(bil[1])+int(bil[2]) == int(bil[3])+int(bil[4])+int(bil[5]):\n",
    "    print('Счастливый')\n",
    "else:\n",
    "    print('Обычный')"
   ]
  },
  {
   "cell_type": "markdown",
   "metadata": {},
   "source": [
    "# 2.1 Цикл while"
   ]
  },
  {
   "cell_type": "markdown",
   "metadata": {},
   "source": [
    "## 2.1.1 \n",
    "### Напишите программу, которая считывает со стандартного ввода целые числа, по одному числу в строке, и после первого введенного нуля выводит сумму полученных на вход чисел."
   ]
  },
  {
   "cell_type": "code",
   "execution_count": 1,
   "metadata": {
    "tags": []
   },
   "outputs": [
    {
     "output_type": "stream",
     "name": "stdout",
     "text": "11\n"
    }
   ],
   "source": [
    "a = int(input())\n",
    "s = 0\n",
    "while a != 0:\n",
    "    s+=a    \n",
    "    a = int(input())\n",
    "print (s)"
   ]
  },
  {
   "cell_type": "markdown",
   "metadata": {},
   "source": [
    "## 2.1.2 \n",
    "### В Институте биоинформатики между информатиками и биологами устраивается соревнование. Победителям соревнования достанется большой и вкусный пирог. В команде биологов aa человек, а в команде информатиков — b человек.\n",
    "\n",
    "### Нужно заранее разрезать пирог таким образом, чтобы можно было раздать кусочки пирога любой команде, выигравшей соревнование, при этом каждому участнику этой команды должно достаться одинаковое число кусочков пирога. И так как не хочется резать пирог на слишком мелкие кусочки, нужно найти минимальное подходящее число.\n",
    "\n",
    "### Напишите программу, которая помогает найти это число.\n",
    "### Программа должна считывать размеры команд (два положительных целых числа a и b, каждое число вводится на отдельной строке) и выводить наименьшее число d, которое делится на оба этих числа без остатка."
   ]
  },
  {
   "cell_type": "code",
   "execution_count": 15,
   "metadata": {},
   "outputs": [
    {
     "output_type": "stream",
     "name": "stdout",
     "text": "35\n"
    }
   ],
   "source": [
    "a = int(input())\n",
    "b = int(input())\n",
    "d = 1\n",
    "while (d%a != 0 or d%b != 0):\n",
    "    d+=1\n",
    "print(d)"
   ]
  },
  {
   "cell_type": "markdown",
   "metadata": {},
   "source": [
    "# 2.2 Операторы break, continue"
   ]
  },
  {
   "cell_type": "markdown",
   "metadata": {},
   "source": [
    "## 2.2.1 \n",
    "### Напишите программу, которая считывает целые числа с консоли по одному числу в строке.\n",
    "\n",
    "### Для каждого введённого числа проверить:\n",
    "### если число меньше 10, то пропускаем это число;\n",
    "### если число больше 100, то прекращаем считывать числа;\n",
    "### в остальных случаях вывести это число обратно на консоль в отдельной строке."
   ]
  },
  {
   "cell_type": "code",
   "execution_count": 31,
   "metadata": {},
   "outputs": [
    {
     "output_type": "stream",
     "name": "stdout",
     "text": "12\n25\n65\n"
    }
   ],
   "source": [
    "i = 0\n",
    "while True:\n",
    "    a = int(input())\n",
    "    if a < 10:\n",
    "        continue\n",
    "    if a > 100:\n",
    "        break\n",
    "    print(a)   "
   ]
  },
  {
   "cell_type": "markdown",
   "metadata": {},
   "source": [
    "# 2.3 Цикл for"
   ]
  },
  {
   "cell_type": "markdown",
   "metadata": {},
   "source": [
    "## 2.3.1 \n",
    "### Когда Павел учился в школе, он запоминал таблицу умножения прямоугольными блоками. Для тренировок ему бы очень пригодилась программа, которая показывала бы блок таблицы умножения.\n",
    "\n",
    "### Напишите программу, на вход которой даются четыре числа a, b, c и d, каждое в своей строке. Программа должна вывести фрагмент таблицы умножения для всех чисел отрезка [a;b] на все числа отрезка [c;d]\n",
    "\n",
    "### Числа a, b, c и d являются натуральными и не превосходят 10, a≤b, c≤d."
   ]
  },
  {
   "cell_type": "code",
   "execution_count": 3,
   "metadata": {},
   "outputs": [
    {
     "output_type": "stream",
     "name": "stdout",
     "text": "5\t6\n7\t35\t42\t\n8\t40\t48\t\n9\t45\t54\t\n10\t50\t60\t\n"
    }
   ],
   "source": [
    "a = int(input())\n",
    "b = int(input())\n",
    "c = int(input())\n",
    "d = int(input())\n",
    "for i in range (c,d+1):\n",
    "    print(end = '\\t')\n",
    "    print(i, end='')\n",
    "print()\n",
    "for j in range (a,b+1):\n",
    "    \n",
    "    print(j,end ='\\t')\n",
    "    for s in range(c,d+1):\n",
    "        print(j*s, end = '\\t')\n",
    "    print()"
   ]
  },
  {
   "cell_type": "markdown",
   "metadata": {},
   "source": [
    "## 2.3.2 \n",
    "### Напишите программу, которая считывает с клавиатуры два числа a и b, считает и выводит на консоль среднее арифметическое всех чисел из отрезка [a; b], которые кратны числу 3.\n",
    "\n",
    "### На вход программе подаются интервалы, внутри которых всегда есть хотя бы одно число, которое делится на 3"
   ]
  },
  {
   "cell_type": "code",
   "execution_count": 17,
   "metadata": {},
   "outputs": [
    {
     "output_type": "stream",
     "name": "stdout",
     "text": "4.5\n"
    }
   ],
   "source": [
    "s = 0\n",
    "j = 0\n",
    "a = int(input())\n",
    "b = int(input())\n",
    "for i in range (a,b+1):\n",
    "    if i%3==0:\n",
    "        s+=i\n",
    "        j+=1\n",
    "print(s/j)"
   ]
  },
  {
   "cell_type": "markdown",
   "metadata": {},
   "source": [
    "# 2.4 Строки и символы"
   ]
  },
  {
   "cell_type": "markdown",
   "metadata": {},
   "source": [
    "## 2.4.1 \n",
    "### Напишите программу, которая вычисляет процентное содержание символов G (гуанин) и C (цитозин) в введенной строке (программа не должна зависеть от регистра вводимых символов)."
   ]
  },
  {
   "cell_type": "code",
   "execution_count": 24,
   "metadata": {},
   "outputs": [
    {
     "output_type": "stream",
     "name": "stdout",
     "text": "40.0\n"
    }
   ],
   "source": [
    "a = input()\n",
    "a = a.upper()\n",
    "g = a.count('G')\n",
    "c = a.count('C')\n",
    "print(((g+c)/len(a)*100))"
   ]
  },
  {
   "cell_type": "markdown",
   "metadata": {},
   "source": [
    "## 2.4.2 \n",
    "### Узнав, что ДНК не является случайной строкой, только что поступившие в Институт биоинформатики студенты группы информатиков предложили использовать алгоритм сжатия, который сжимает повторяющиеся символы в строке.\n",
    "\n",
    "### Кодирование осуществляется следующим образом:\n",
    "### s = 'aaaabbсaa' преобразуется в 'a4b2с1a2', то есть группы одинаковых символов исходной строки заменяются на этот символ и количество его повторений в этой позиции строки.\n",
    "\n",
    "### Напишите программу, которая считывает строку, кодирует её предложенным алгоритмом и выводит закодированную последовательность на стандартный вывод. Кодирование должно учитывать регистр символов."
   ]
  },
  {
   "cell_type": "code",
   "execution_count": 44,
   "metadata": {},
   "outputs": [
    {
     "output_type": "stream",
     "name": "stdout",
     "text": "a1b1c3\n"
    }
   ],
   "source": [
    "s = input()\n",
    "j = 1\n",
    "l=''\n",
    "for i in range (len(s)-1):\n",
    "    if s[i] == s[i+1]:\n",
    "        j+=1\n",
    "    else:\n",
    "        l += s[i] + str(j)\n",
    "        j=1\n",
    "l+=s[-1]+ str(j)\n",
    "print(l)"
   ]
  },
  {
   "cell_type": "markdown",
   "metadata": {},
   "source": [
    "# 2.5 Списки"
   ]
  },
  {
   "cell_type": "markdown",
   "metadata": {},
   "source": [
    "## 2.5.1 \n",
    "### Напишите программу, на вход которой подается одна строка с целыми числами. Программа должна вывести сумму этих чисел."
   ]
  },
  {
   "cell_type": "code",
   "execution_count": 59,
   "metadata": {},
   "outputs": [
    {
     "output_type": "stream",
     "name": "stdout",
     "text": "15\n"
    }
   ],
   "source": [
    "s = input()\n",
    "s = s.split(' ')\n",
    "a = 0\n",
    "for i in s:\n",
    "    i=int(i)\n",
    "    a+=i\n",
    "print(a)"
   ]
  },
  {
   "cell_type": "markdown",
   "metadata": {},
   "source": [
    "## 2.5.2 \n",
    "### Напишите программу, на вход которой подаётся список чисел одной строкой. Программа должна для каждого элемента этого списка вывести сумму двух его соседей. Для элементов списка, являющихся крайними, одним из соседей считается элемент, находящий на противоположном конце этого списка. \n",
    "\n",
    "### Если на вход пришло только одно число, надо вывести его же.\n",
    "\n",
    "### Вывод должен содержать одну строку с числами нового списка, разделёнными пробелом."
   ]
  },
  {
   "cell_type": "code",
   "execution_count": 2,
   "metadata": {
    "tags": []
   },
   "outputs": [
    {
     "output_type": "stream",
     "name": "stdout",
     "text": "13 6 9 15 7\n"
    }
   ],
   "source": [
    "s = [int(i) for i in input().split()]\n",
    "if len(s)-1 == 0:\n",
    "    print(s[0])\n",
    "else:\n",
    "    for i in range(len(s)-1):\n",
    "            b = s[i+1] + s[i-1]\n",
    "            print(b, end = ' ')\n",
    "    b = (s[i]+s[0])\n",
    "    print(b)"
   ]
  },
  {
   "cell_type": "markdown",
   "metadata": {},
   "source": [
    "## 2.5.3\n",
    "### Напишите программу, которая принимает на вход список чисел в одной строке и выводит на экран в одну строку значения, которые встречаются в нём более одного раза.\n",
    "\n",
    "### Для решения задачи может пригодиться метод sort списка.\n",
    "\n",
    "### Выводимые числа не должны повторяться, порядок их вывода может быть произвольным."
   ]
  },
  {
   "cell_type": "code",
   "execution_count": 3,
   "metadata": {
    "tags": []
   },
   "outputs": [
    {
     "output_type": "stream",
     "name": "stdout",
     "text": "0 3 4"
    }
   ],
   "source": [
    "s = [int(i) for i in input().split()]\n",
    "l = []\n",
    "for i in s:\n",
    "    if s.count(i) > 1 and i not in l :\n",
    "        l.append(i)\n",
    "for i in sorted(l):\n",
    "        print(i, end = ' ')"
   ]
  },
  {
   "cell_type": "markdown",
   "metadata": {},
   "source": [
    "# 2.6 Задачи"
   ]
  },
  {
   "cell_type": "markdown",
   "metadata": {},
   "source": [
    "## 2.6.1 \n",
    "### Напишите программу, которая считывает с консоли числа (по одному в строке) до тех пор, пока сумма введённых чисел не будет равна 0 и сразу после этого выводит сумму квадратов всех считанных чисел.\n",
    "\n",
    "### Гарантируется, что в какой-то момент сумма введённых чисел окажется равной 0, после этого считывание продолжать не нужно."
   ]
  },
  {
   "cell_type": "code",
   "execution_count": 9,
   "metadata": {
    "tags": []
   },
   "outputs": [
    {
     "output_type": "stream",
     "name": "stdout",
     "text": "340\n"
    }
   ],
   "source": [
    "a = int(input())\n",
    "b = a\n",
    "v3 = a**2\n",
    "while b!=0:\n",
    "    a = int(input())\n",
    "    b+=a\n",
    "    v3+= a**2\n",
    "print(v3)"
   ]
  },
  {
   "cell_type": "markdown",
   "metadata": {},
   "source": [
    "## 2.6.2\n",
    "### Напишите программу, которая выводит часть последовательности 1 2 2 3 3 3 4 4 4 4 5 5 5 5 5 ... (число повторяется столько раз, чему равно). На вход программе передаётся неотрицательное целое число n — столько элементов последовательности должна отобразить программа. На выходе ожидается последовательность чисел, записанных через пробел в одну строку."
   ]
  },
  {
   "cell_type": "code",
   "execution_count": 10,
   "metadata": {
    "tags": []
   },
   "outputs": [
    {
     "output_type": "stream",
     "name": "stdout",
     "text": "1 2 2 3 3 3 4"
    }
   ],
   "source": [
    "n = int(input())\n",
    "l=[]\n",
    "for i in range (1, n+1):\n",
    "    for j in range (0,i):\n",
    "        l.append(i)\n",
    "for i in l[:n]:\n",
    "    print(i, end = ' ')"
   ]
  },
  {
   "cell_type": "markdown",
   "metadata": {},
   "source": [
    "## 2.6.3\n",
    "### Напишите программу, которая считывает список чисел lst из первой строки и число xx из второй строки, которая выводит все позиции, на которых встречается число xx в переданном списке lst.\n",
    "\n",
    "### Позиции нумеруются с нуля, если число x не встречается в списке, вывести строку \"Отсутствует\" (без кавычек, с большой буквы).\n",
    "\n",
    "### Позиции должны быть выведены в одну строку, по возрастанию абсолютного значения."
   ]
  },
  {
   "cell_type": "code",
   "execution_count": 52,
   "metadata": {},
   "outputs": [
    {
     "output_type": "stream",
     "name": "stdout",
     "text": "Отсутствует\n"
    }
   ],
   "source": [
    "lst = [int(i) for i in input(). split()]\n",
    "num = int(input())\n",
    "if num in lst:\n",
    "    for i in range (len(lst)):\n",
    "        if lst[i] == num:\n",
    "            print(i, end=' ')\n",
    "else:\n",
    "    print('Отсутствует')"
   ]
  },
  {
   "cell_type": "markdown",
   "metadata": {},
   "source": [
    "## 2.6.4 \n",
    "### Напишите программу, на вход которой подаётся прямоугольная матрица в виде последовательности строк, заканчивающихся строкой, содержащей только строку \"end\" (без кавычек)\n",
    "\n",
    "### Программа должна вывести матрицу того же размера, у которой каждый элемент в позиции i, j равен сумме элементов первой матрицы на позициях (i-1, j), (i+1, j), (i, j-1), (i, j+1). У крайних символов соседний элемент находится с противоположной стороны матрицы.\n",
    "\n",
    "### В случае одной строки/столбца элемент сам себе является соседом по соответствующему направлению."
   ]
  },
  {
   "cell_type": "code",
   "execution_count": 11,
   "metadata": {
    "tags": []
   },
   "outputs": [
    {
     "output_type": "stream",
     "name": "stdout",
     "text": "3 21 22 \n10 6 19 \n20 16 -1 \n"
    }
   ],
   "source": [
    "a = input()\n",
    "m = []\n",
    "while a!= 'end':\n",
    "    m.append([int(i) for i in a. split()])\n",
    "    a = input()\n",
    "n = [[0 for j in range (len(m[i]))] for i in range(len(m))]\n",
    "\n",
    "for i in range(len(m)):\n",
    "    for j in range (len(m[i])):\n",
    "        n[i][j] = m[(i-1)% len(m)][j] + m[(i+1) % len(m) ][j] + m[i][(j-1)% len(m[i])] + m[i][(j+1)%len(m[i])]\n",
    "\n",
    "for i in n:\n",
    "    for j in i:\n",
    "        print(j, end=' ')\n",
    "    print()"
   ]
  },
  {
   "cell_type": "markdown",
   "metadata": {},
   "source": [
    "## 2.6.5 \n",
    "### Выведите таблицу размером n×n, заполненную числами от 11 до n^2 по спирали, выходящей из левого верхнего угла и закрученной по часовой стрелке"
   ]
  },
  {
   "cell_type": "code",
   "execution_count": 212,
   "metadata": {
    "tags": [
     "outputPrepend",
     "outputPrepend",
     "outputPrepend",
     "outputPrepend",
     "outputPrepend",
     "outputPrepend",
     "outputPrepend",
     "outputPrepend",
     "outputPrepend",
     "outputPrepend",
     "outputPrepend",
     "outputPrepend",
     "outputPrepend",
     "outputPrepend",
     "outputPrepend",
     "outputPrepend",
     "outputPrepend",
     "outputPrepend",
     "outputPrepend",
     "outputPrepend",
     "outputPrepend",
     "outputPrepend",
     "outputPrepend",
     "outputPrepend",
     "outputPrepend",
     "outputPrepend",
     "outputPrepend",
     "outputPrepend",
     "outputPrepend",
     "outputPrepend",
     "outputPrepend",
     "outputPrepend",
     "outputPrepend",
     "outputPrepend",
     "outputPrepend",
     "outputPrepend",
     "outputPrepend",
     "outputPrepend",
     "outputPrepend",
     "outputPrepend",
     "outputPrepend",
     "outputPrepend",
     "outputPrepend",
     "outputPrepend",
     "outputPrepend",
     "outputPrepend",
     "outputPrepend",
     "outputPrepend",
     "outputPrepend",
     "outputPrepend",
     "outputPrepend",
     "outputPrepend",
     "outputPrepend",
     "outputPrepend",
     "outputPrepend",
     "outputPrepend",
     "outputPrepend",
     "outputPrepend",
     "outputPrepend",
     "outputPrepend",
     "outputPrepend",
     "outputPrepend",
     "outputPrepend",
     "outputPrepend",
     "outputPrepend",
     "outputPrepend",
     "outputPrepend",
     "outputPrepend",
     "outputPrepend",
     "outputPrepend",
     "outputPrepend",
     "outputPrepend",
     "outputPrepend",
     "outputPrepend",
     "outputPrepend",
     "outputPrepend",
     "outputPrepend",
     "outputPrepend",
     "outputPrepend",
     "outputPrepend",
     "outputPrepend",
     "outputPrepend",
     "outputPrepend",
     "outputPrepend",
     "outputPrepend",
     "outputPrepend",
     "outputPrepend",
     "outputPrepend",
     "outputPrepend",
     "outputPrepend",
     "outputPrepend",
     "outputPrepend",
     "outputPrepend",
     "outputPrepend",
     "outputPrepend",
     "outputPrepend",
     "outputPrepend",
     "outputPrepend",
     "outputPrepend",
     "outputPrepend",
     "outputPrepend",
     "outputPrepend",
     "outputPrepend",
     "outputPrepend",
     "outputPrepend",
     "outputPrepend",
     "outputPrepend",
     "outputPrepend",
     "outputPrepend",
     "outputPrepend",
     "outputPrepend",
     "outputPrepend",
     "outputPrepend",
     "outputPrepend",
     "outputPrepend",
     "outputPrepend",
     "outputPrepend",
     "outputPrepend",
     "outputPrepend",
     "outputPrepend",
     "outputPrepend",
     "outputPrepend",
     "outputPrepend",
     "outputPrepend",
     "outputPrepend",
     "outputPrepend",
     "outputPrepend",
     "outputPrepend",
     "outputPrepend",
     "outputPrepend",
     "outputPrepend",
     "outputPrepend",
     "outputPrepend",
     "outputPrepend",
     "outputPrepend",
     "outputPrepend",
     "outputPrepend",
     "outputPrepend",
     "outputPrepend",
     "outputPrepend",
     "outputPrepend",
     "outputPrepend",
     "outputPrepend",
     "outputPrepend",
     "outputPrepend",
     "outputPrepend",
     "outputPrepend",
     "outputPrepend",
     "outputPrepend",
     "outputPrepend",
     "outputPrepend",
     "outputPrepend",
     "outputPrepend",
     "outputPrepend",
     "outputPrepend",
     "outputPrepend",
     "outputPrepend",
     "outputPrepend",
     "outputPrepend",
     "outputPrepend",
     "outputPrepend",
     "outputPrepend",
     "outputPrepend",
     "outputPrepend",
     "outputPrepend",
     "outputPrepend",
     "outputPrepend",
     "outputPrepend",
     "outputPrepend",
     "outputPrepend",
     "outputPrepend",
     "outputPrepend",
     "outputPrepend",
     "outputPrepend",
     "outputPrepend",
     "outputPrepend",
     "outputPrepend",
     "outputPrepend",
     "outputPrepend",
     "outputPrepend",
     "outputPrepend",
     "outputPrepend",
     "outputPrepend",
     "outputPrepend",
     "outputPrepend",
     "outputPrepend",
     "outputPrepend",
     "outputPrepend",
     "outputPrepend",
     "outputPrepend",
     "outputPrepend",
     "outputPrepend",
     "outputPrepend",
     "outputPrepend",
     "outputPrepend",
     "outputPrepend",
     "outputPrepend",
     "outputPrepend",
     "outputPrepend",
     "outputPrepend",
     "outputPrepend",
     "outputPrepend",
     "outputPrepend",
     "outputPrepend",
     "outputPrepend",
     "outputPrepend",
     "outputPrepend",
     "outputPrepend",
     "outputPrepend",
     "outputPrepend",
     "outputPrepend",
     "outputPrepend",
     "outputPrepend",
     "outputPrepend",
     "outputPrepend",
     "outputPrepend",
     "outputPrepend",
     "outputPrepend",
     "outputPrepend",
     "outputPrepend",
     "outputPrepend",
     "outputPrepend",
     "outputPrepend",
     "outputPrepend",
     "outputPrepend",
     "outputPrepend",
     "outputPrepend",
     "outputPrepend",
     "outputPrepend",
     "outputPrepend",
     "outputPrepend",
     "outputPrepend",
     "outputPrepend",
     "outputPrepend",
     "outputPrepend",
     "outputPrepend",
     "outputPrepend",
     "outputPrepend",
     "outputPrepend",
     "outputPrepend",
     "outputPrepend",
     "outputPrepend",
     "outputPrepend",
     "outputPrepend",
     "outputPrepend",
     "outputPrepend",
     "outputPrepend",
     "outputPrepend",
     "outputPrepend",
     "outputPrepend",
     "outputPrepend",
     "outputPrepend",
     "outputPrepend",
     "outputPrepend",
     "outputPrepend",
     "outputPrepend",
     "outputPrepend",
     "outputPrepend",
     "outputPrepend",
     "outputPrepend",
     "outputPrepend",
     "outputPrepend",
     "outputPrepend",
     "outputPrepend",
     "outputPrepend",
     "outputPrepend",
     "outputPrepend",
     "outputPrepend",
     "outputPrepend",
     "outputPrepend",
     "outputPrepend",
     "outputPrepend",
     "outputPrepend",
     "outputPrepend",
     "outputPrepend",
     "outputPrepend",
     "outputPrepend",
     "outputPrepend",
     "outputPrepend",
     "outputPrepend",
     "outputPrepend",
     "outputPrepend",
     "outputPrepend",
     "outputPrepend",
     "outputPrepend",
     "outputPrepend",
     "outputPrepend",
     "outputPrepend",
     "outputPrepend",
     "outputPrepend",
     "outputPrepend",
     "outputPrepend",
     "outputPrepend",
     "outputPrepend",
     "outputPrepend",
     "outputPrepend",
     "outputPrepend",
     "outputPrepend",
     "outputPrepend",
     "outputPrepend",
     "outputPrepend",
     "outputPrepend",
     "outputPrepend",
     "outputPrepend",
     "outputPrepend",
     "outputPrepend",
     "outputPrepend",
     "outputPrepend",
     "outputPrepend",
     "outputPrepend",
     "outputPrepend",
     "outputPrepend",
     "outputPrepend",
     "outputPrepend",
     "outputPrepend",
     "outputPrepend",
     "outputPrepend",
     "outputPrepend",
     "outputPrepend",
     "outputPrepend",
     "outputPrepend",
     "outputPrepend",
     "outputPrepend",
     "outputPrepend",
     "outputPrepend",
     "outputPrepend",
     "outputPrepend",
     "outputPrepend",
     "outputPrepend",
     "outputPrepend",
     "outputPrepend",
     "outputPrepend",
     "outputPrepend",
     "outputPrepend",
     "outputPrepend",
     "outputPrepend",
     "outputPrepend",
     "outputPrepend",
     "outputPrepend",
     "outputPrepend",
     "outputPrepend",
     "outputPrepend",
     "outputPrepend",
     "outputPrepend",
     "outputPrepend",
     "outputPrepend",
     "outputPrepend",
     "outputPrepend",
     "outputPrepend",
     "outputPrepend",
     "outputPrepend",
     "outputPrepend",
     "outputPrepend",
     "outputPrepend",
     "outputPrepend",
     "outputPrepend",
     "outputPrepend",
     "outputPrepend",
     "outputPrepend",
     "outputPrepend",
     "outputPrepend",
     "outputPrepend",
     "outputPrepend",
     "outputPrepend",
     "outputPrepend",
     "outputPrepend",
     "outputPrepend",
     "outputPrepend",
     "outputPrepend",
     "outputPrepend",
     "outputPrepend",
     "outputPrepend",
     "outputPrepend",
     "outputPrepend",
     "outputPrepend",
     "outputPrepend",
     "outputPrepend",
     "outputPrepend",
     "outputPrepend",
     "outputPrepend",
     "outputPrepend",
     "outputPrepend",
     "outputPrepend",
     "outputPrepend",
     "outputPrepend",
     "outputPrepend",
     "outputPrepend",
     "outputPrepend",
     "outputPrepend",
     "outputPrepend",
     "outputPrepend",
     "outputPrepend",
     "outputPrepend",
     "outputPrepend",
     "outputPrepend",
     "outputPrepend",
     "outputPrepend",
     "outputPrepend",
     "outputPrepend",
     "outputPrepend",
     "outputPrepend",
     "outputPrepend",
     "outputPrepend",
     "outputPrepend",
     "outputPrepend",
     "outputPrepend",
     "outputPrepend",
     "outputPrepend",
     "outputPrepend",
     "outputPrepend"
    ]
   },
   "outputs": [
    {
     "output_type": "stream",
     "name": "stdout",
     "text": "1\t2\t3\t4\t5\t\n16\t17\t18\t19\t6\t\n15\t24\t25\t20\t7\t\n14\t23\t22\t21\t8\t\n13\t12\t11\t10\t9\t\n"
    }
   ],
   "source": [
    "m = int (input())\n",
    "n = [[0 for j in range (m)] for i in range(m)]\n",
    "\n",
    "top_raw = 0  # индекс верхнй строки\n",
    "bottom_raw = m-1\n",
    "left_col = 0  # индекс левого столбца\n",
    "right_col = m-1\n",
    "s = 0\n",
    "while top_raw <= bottom_raw and left_col <= right_col:\n",
    "\n",
    "    for i in range (top_raw, top_raw + 1):\n",
    "        for j in range(left_col, right_col+1):\n",
    "            s+=1\n",
    "            n[i][j] = s\n",
    "    for i in range(top_raw+1, bottom_raw + 1):\n",
    "        for j in range (right_col,right_col+1):\n",
    "            s+=1\n",
    "            n[i][j] = s\n",
    "    for i in range (bottom_raw, bottom_raw +1):\n",
    "        for j in range (-left_col - 2, -right_col -2 , -1):\n",
    "            s+=1\n",
    "            n[i][j] = s\n",
    "    for i in range (-top_raw - 2, - bottom_raw - 1 , - 1):\n",
    "        for j in range(left_col, left_col+1):\n",
    "            s+=1\n",
    "            n[i][j] = s\n",
    "    top_raw += 1\n",
    "    bottom_raw -= 1\n",
    "    left_col += 1\n",
    "    right_col -= 1\n",
    "for i in n:\n",
    "    for j in i:\n",
    "        print(j, end = '\\t')\n",
    "    print()"
   ]
  },
  {
   "cell_type": "markdown",
   "metadata": {},
   "source": [
    "# 3.1 Функции"
   ]
  },
  {
   "cell_type": "markdown",
   "metadata": {},
   "source": [
    "## 3.1.1 \n",
    "### Напишите функцию f(x), которая возвращает значение следующей функции, определённой на всей числовой прямой:\n",
    "\n",
    "### f(x)= 1 - (x + 2)^2, при x≤−2\n",
    "### f(x)= -x/2, при −2<x≤2\n",
    "### f(x)= (x-2)^2 +1, при 2<x\n"
   ]
  },
  {
   "cell_type": "code",
   "execution_count": 7,
   "metadata": {},
   "outputs": [],
   "source": [
    "def f(x):\n",
    "    if x <= -2:\n",
    "        return 1 - (x + 2)**2\n",
    "    elif -2 < x <= 2:\n",
    "        return - x/2\n",
    "    elif x >= 2:\n",
    "        return (x - 2)**2 + 1\n"
   ]
  },
  {
   "cell_type": "markdown",
   "metadata": {},
   "source": [
    "## 3.1.2 \n",
    "### Напишите функцию modify_list(l), которая принимает на вход список целых чисел, удаляет из него все нечётные значения, а чётные нацело делит на два. Функция не должна ничего возвращать, требуется только изменение переданного списка"
   ]
  },
  {
   "cell_type": "code",
   "execution_count": 70,
   "metadata": {},
   "outputs": [],
   "source": [
    "def modify_list(l):\n",
    "    a = []\n",
    "    for i in range(len(l)):\n",
    "        if l[i] % 2 != 0:\n",
    "            a. append(l[i])\n",
    "    for i in a:\n",
    "        if i in l:\n",
    "            l.remove(i)          \n",
    "    for i in range(len(l)):\n",
    "        l[i] = l[i]//2"
   ]
  },
  {
   "cell_type": "markdown",
   "metadata": {},
   "source": [
    "# 3.2 Словари "
   ]
  },
  {
   "cell_type": "markdown",
   "metadata": {},
   "source": [
    "## 3.2.1 \n",
    "### Напишите функцию update_dictionary(d, key, value), которая принимает на вход словарь dd и два числа: keykey и valuevalue.\n",
    "\n",
    "### Если ключ keykey есть в словаре dd, то добавьте значение valuevalue в список, который хранится по этому ключу.\n",
    "### Если ключа keykey нет в словаре, то нужно добавить значение в список по ключу 2 * key2∗key. Если и ключа 2 * key2∗key нет, то нужно добавить ключ 2 * key2∗key в словарь и сопоставить ему список из переданного элемента [value][value]."
   ]
  },
  {
   "cell_type": "code",
   "execution_count": 70,
   "metadata": {},
   "outputs": [],
   "source": [
    "def update_dictionary(d, key, value):\n",
    "        d[key].append(value)\n",
    "    else:\n",
    "        if key*2 in d:\n",
    "            d[2 * key].append(value)\n",
    "        else:\n",
    "            d[key*2] = []\n",
    "            d[key*2]. append(value)"
   ]
  },
  {
   "cell_type": "markdown",
   "metadata": {},
   "source": [
    "## 3.2.2\n",
    "### Когда Антон прочитал «Войну и мир», ему стало интересно, сколько слов и в каком количестве используется в этой книге.\n",
    "\n",
    "### Помогите Антону написать упрощённую версию такой программы, которая сможет подсчитать слова, разделённые пробелом и вывести получившуюся статистику.\n",
    "\n",
    "### Программа должна считывать одну строку со стандартного ввода и выводить для каждого уникального слова в этой строке число его повторений (без учёта регистра) в формате \"слово количество\".\n",
    "### Порядок вывода слов может быть произвольным, каждое уникальное слово должно выводиться только один раз."
   ]
  },
  {
   "cell_type": "code",
   "execution_count": 104,
   "metadata": {},
   "outputs": [],
   "source": [
    "a = [str(i).lower() for i in input().split()]\n",
    "b = {}\n",
    "for i in a:\n",
    "    if i in b.keys():\n",
    "        b[i]+=1\n",
    "    else:\n",
    "        b[i] = 1\n",
    "for keys, values in b. items():\n",
    "    print(keys,values, sep = ' ', end = '\\n')    "
   ]
  },
  {
   "cell_type": "markdown",
   "metadata": {},
   "source": [
    "## 3.2.3 \n",
    "### Напишите программу, которая считывает строку с числом n, которое задаёт количество чисел, которые нужно считать. Далее считывает n строк с числами x - i-ое, по одному числу в каждой строке. Итого будет n+1 строк.\n",
    "### При считывании числа x_i, программа должна на отдельной строке вывести значение f(x_i). Функция f(x) уже реализована и доступна для вызова. \n",
    "### Функция вычисляется достаточно долго и зависит только от переданного аргумента xx. Для того, чтобы уложиться в ограничение по времени, нужно избежать повторного вычисления значений.\"\"\"\n",
    "\n"
   ]
  },
  {
   "cell_type": "code",
   "execution_count": 39,
   "metadata": {},
   "outputs": [
    {
     "output_type": "error",
     "ename": "ValueError",
     "evalue": "invalid literal for int() with base 10: ''",
     "traceback": [
      "\u001b[1;31m---------------------------------------------------------------------------\u001b[0m",
      "\u001b[1;31mValueError\u001b[0m                                Traceback (most recent call last)",
      "\u001b[1;32m<ipython-input-39-5ca4f9173412>\u001b[0m in \u001b[0;36m<module>\u001b[1;34m\u001b[0m\n\u001b[0;32m      2\u001b[0m \u001b[0ml\u001b[0m \u001b[1;33m=\u001b[0m \u001b[0mdict\u001b[0m\u001b[1;33m(\u001b[0m\u001b[1;33m)\u001b[0m\u001b[1;33m\u001b[0m\u001b[1;33m\u001b[0m\u001b[0m\n\u001b[0;32m      3\u001b[0m \u001b[1;32mfor\u001b[0m \u001b[0mi\u001b[0m \u001b[1;32min\u001b[0m \u001b[0mrange\u001b[0m \u001b[1;33m(\u001b[0m\u001b[0mn\u001b[0m\u001b[1;33m)\u001b[0m\u001b[1;33m:\u001b[0m\u001b[1;33m\u001b[0m\u001b[1;33m\u001b[0m\u001b[0m\n\u001b[1;32m----> 4\u001b[1;33m     \u001b[0mx_i\u001b[0m \u001b[1;33m=\u001b[0m \u001b[0mint\u001b[0m\u001b[1;33m(\u001b[0m\u001b[0minput\u001b[0m\u001b[1;33m(\u001b[0m\u001b[1;33m)\u001b[0m\u001b[1;33m)\u001b[0m\u001b[1;33m\u001b[0m\u001b[1;33m\u001b[0m\u001b[0m\n\u001b[0m\u001b[0;32m      5\u001b[0m     \u001b[1;32mif\u001b[0m \u001b[0mx_i\u001b[0m \u001b[1;32mnot\u001b[0m \u001b[1;32min\u001b[0m \u001b[0ml\u001b[0m\u001b[1;33m:\u001b[0m\u001b[1;33m\u001b[0m\u001b[1;33m\u001b[0m\u001b[0m\n\u001b[0;32m      6\u001b[0m         \u001b[0ml\u001b[0m\u001b[1;33m[\u001b[0m\u001b[0mx_i\u001b[0m\u001b[1;33m]\u001b[0m \u001b[1;33m=\u001b[0m \u001b[0mf\u001b[0m\u001b[1;33m(\u001b[0m\u001b[0mx_i\u001b[0m\u001b[1;33m)\u001b[0m\u001b[1;33m\u001b[0m\u001b[1;33m\u001b[0m\u001b[0m\n",
      "\u001b[1;31mValueError\u001b[0m: invalid literal for int() with base 10: ''"
     ]
    }
   ],
   "source": [
    "n = int(input())\n",
    "l = dict()\n",
    "for i in range (n):\n",
    "    x_i = int(input())\n",
    "    if x_i not in l:\n",
    "        l[x_i] = f(x_i) \n",
    "    print(l[x_i])"
   ]
  },
  {
   "cell_type": "markdown",
   "metadata": {},
   "source": [
    "# 3.4 Файловый ввод/вывод"
   ]
  },
  {
   "cell_type": "markdown",
   "metadata": {},
   "source": [
    "## 3.4.1\n",
    "### Напишите программу, которая считывает из файла строку, соответствующую тексту, сжатому с помощью кодирования повторов, и производит обратную операцию, получая исходный текст.\n",
    "\n",
    "### Запишите полученный текст в файл"
   ]
  },
  {
   "cell_type": "code",
   "execution_count": 56,
   "metadata": {},
   "outputs": [
    {
     "output_type": "stream",
     "name": "stdout",
     "text": "QQQQQQQQQQQQQQQQQMMMMMMMMMMMggggggggggggggggvvvvvvvvvvfffffffffffyyyyRRRRRRRRRRRRRRRRRRRjjjjjjjjjjWWWWWWWWWWWWdddddddddddddddddQQoooooooooooooooozzzzzzzzzzzzzzzzzBZZZZZZZZZZZZZZDDDDDDDDDJJjjjjjjjjjjjjjjjXXXXeeeeeeeeeeeeeeee\n"
    }
   ],
   "source": [
    "import os\n",
    "inf = open(os.path.join('C:/Users/dmtry','dataset_3363_2.txt'))\n",
    "line = inf.readline().strip()\n",
    "inf.close()\n",
    "l = []\n",
    "alph = {'a','b','c','d','e','f','g','h','i','j','k','l','m','n','o','p','q','r','s','t','u','v','w','x','y','z', 'A','B','C','D','E','F','G','H','I','J','K','L','M','N','O','P','Q','R','S','T','U','V','W','X','Y','Z'}\n",
    "left = 0\n",
    "n = [0 for i in range(len(l))]\n",
    "for i in range (len(line)):\n",
    "    if line[i] in alph:\n",
    "        l.append(line[i])\n",
    "        n.append(line[left+1:i])\n",
    "        left = i\n",
    "n.append(line[left+1:i+10])\n",
    "n.remove(n[0])\n",
    "line = ''\n",
    "for i in range(len(l)):\n",
    "    for j in range (int(n[i])):\n",
    "        line+=l[i]\n",
    "print(line)\n",
    "text_file = open(\"answer.txt\", \"w\")\n",
    "text_file.write(line)\n",
    "text_file.close()"
   ]
  },
  {
   "cell_type": "markdown",
   "metadata": {},
   "source": [
    "## 3.4.2\n",
    "### Напишите программу, которая считывает текст из файла (в файле может быть больше одной строки) и выводит самое частое слово в этом тексте и через пробел то, сколько раз оно встретилось. Если таких слов несколько, вывести лексикографически первое (можно использовать оператор < для строк).\n",
    "\n",
    "### В качестве ответа укажите вывод программы, а не саму программу.\n",
    "### Слова, написанные в разных регистрах, считаются одинаковыми\n"
   ]
  },
  {
   "cell_type": "code",
   "execution_count": 154,
   "metadata": {},
   "outputs": [
    {
     "output_type": "stream",
     "name": "stdout",
     "text": "ada 11\n"
    }
   ],
   "source": [
    "inf = open(os.path.join('C:/Users/dmtry/Downloads','dataset_3363_3 (3).txt'))\n",
    "line = inf.readline().strip()\n",
    "inf.close()\n",
    "l = line.split() \n",
    "d = dict()\n",
    "for i in l:\n",
    "    a = i.lower()\n",
    "    if i not in d.keys():\n",
    "        d[i] = 1\n",
    "    elif i in d .keys() or i.lower in d.keys():\n",
    "        d[i]+=1\n",
    "d = {i:j for i, j in d.items() if j == max(d.values()) }\n",
    "for i in l:\n",
    "    if i in d.keys() or i.lower in d.keys():\n",
    "        print (i, d[i], sep =' ')\n",
    "        break"
   ]
  },
  {
   "cell_type": "markdown",
   "metadata": {},
   "source": [
    "## 3.4.3\n",
    "\n",
    "### Имеется файл с данными по успеваемости абитуриентов. Он представляет из себя набор строк, где в каждой строке записана следующая информация:\n",
    "\n",
    "### Фамилия;Оценка_ по _математике;Оценка _по_ физике;Оценка _по_ русскому_языку\n",
    "\n",
    "### Поля внутри строки разделены точкой с запятой, оценки — целые числа.\n",
    "\n",
    "### Напишите программу, которая считывает файл с подобной структурой и для каждого абитуриента выводит его среднюю оценку по этим трём предметам на отдельной строке, соответствующей этому абитуриенту.\n",
    "\n",
    "### Также в конце файла, на отдельной строке, через пробел запишите средние баллы по математике, физике и русскому языку по всем абитуриентам.\n",
    "\n",
    "### В качестве ответа на задание прикрепите полученный файл со средними оценками."
   ]
  },
  {
   "cell_type": "code",
   "execution_count": 210,
   "metadata": {},
   "outputs": [],
   "source": [
    "with open(os.path.join('C:/Users/dmtry/Downloads','dataset_3363_4.txt'), encoding='utf-8') as inf, open('assignment3.txt','w') as ouf:\n",
    "    line = inf.read().strip().split('\\n')\n",
    "    avg_mat,avg_phs, avg_rus = 0,0,0\n",
    "    for i in range (len(line)):\n",
    "        line[i] = line[i].split(';')\n",
    "        avg_st = 0\n",
    "        avg_mat += int(line[i][1])\n",
    "        avg_phs += int(line[i][2])\n",
    "        avg_rus += int(line[i][3])\n",
    "        for j in range (1,len(line[i])):\n",
    "            avg_st += int(line[i][j]) \n",
    "        ouf.write(str(round(avg_st/3,9)) + ' \\n')\n",
    "    ouf.write(str(round(avg_mat/len(line),9))+ ' ' + str(round(avg_phs/len(line),9)) +' ' + str(round(avg_rus/len(line),9)))"
   ]
  },
  {
   "cell_type": "markdown",
   "metadata": {},
   "source": [
    "# 3.5 Модули, подключение модулей"
   ]
  },
  {
   "cell_type": "markdown",
   "metadata": {},
   "source": [
    "## 3.5.1\n",
    "### Напишите программу, которая подключает модуль math и, используя значение числа π из этого модуля, находит для переданного ей на стандартный ввод радиуса круга периметр этого круга и выводит его на стандартный вывод."
   ]
  },
  {
   "cell_type": "code",
   "execution_count": 215,
   "metadata": {},
   "outputs": [
    {
     "output_type": "stream",
     "name": "stdout",
     "text": "62.83185307179586\n"
    }
   ],
   "source": [
    "from math import pi\n",
    "r = float(input())\n",
    "print(2*pi*r)"
   ]
  },
  {
   "cell_type": "markdown",
   "metadata": {},
   "source": [
    "## 3.5.2\n",
    "### Напишите программу, которая запускается из консоли и печатает значения всех переданных аргументов на экран (имя скрипта выводить не нужно). Не изменяйте порядок аргументов при выводе.\n",
    "\n",
    "### Для доступа к аргументам командной строки программы подключите модуль sys и используйте переменную argv из этого модуля.\n"
   ]
  },
  {
   "cell_type": "code",
   "execution_count": 219,
   "metadata": {},
   "outputs": [
    {
     "output_type": "stream",
     "name": "stdout",
     "text": "[2, 3, 4, 5, 6, 7, 8, 9]\n"
    }
   ],
   "source": [
    "l = [1, 2,3,4,5,6,7,8,9]\n",
    "print(l[1:])"
   ]
  },
  {
   "cell_type": "code",
   "execution_count": null,
   "metadata": {},
   "outputs": [],
   "source": [
    "import sys\n",
    "for i in range (1,len(sys.argv)):\n",
    "    print(sys.argv[i], end = ' ')"
   ]
  },
  {
   "cell_type": "markdown",
   "metadata": {},
   "source": [
    "# 3.6 Установка дополнительных модулей"
   ]
  },
  {
   "cell_type": "markdown",
   "metadata": {},
   "source": [
    "## 3.6.1\n",
    "### Скачайте файл. В нём указан адрес другого файла, который нужно скачать с использованием модуля requests и посчитать число строк в нём.\n",
    "\n",
    "### Используйте функцию get для получения файла (имеет смысл вызвать метод strip к передаваемому параметру, чтобы убрать пробельные символы по краям).\n",
    "\n",
    "### В поле ответа введите одно число или отправьте файл, содержащий одно число."
   ]
  },
  {
   "cell_type": "code",
   "execution_count": 38,
   "metadata": {},
   "outputs": [
    {
     "output_type": "stream",
     "name": "stdout",
     "text": "100\n"
    }
   ],
   "source": [
    "import requests\n",
    "file_name = 'dataset_3378_2 (1).txt'\n",
    "file = os.path.join('C:/Users/dmtry/Downloads', file_name)\n",
    "with open(file) as inf:\n",
    "    line = inf.read().strip()\n",
    "    r = requests.get(line)\n",
    "print(len(r.text.splitlines()))"
   ]
  },
  {
   "cell_type": "markdown",
   "metadata": {},
   "source": [
    "## 3.6.2\n",
    "### Имеется набор файлов, каждый из которых, кроме последнего, содержит имя следующего файла.\n",
    "### Первое слово в тексте последнего файла: \"We\".\n",
    "\n",
    "### Скачайте предложенный файл. В нём содержится ссылка на первый файл из этого набора.\n",
    "\n",
    "### Все файлы располагаются в каталоге по адресу:\n",
    "### https://stepic.org/media/attachments/course67/3.6.3/\n",
    "\n",
    "### Загрузите содержимое последнего файла из набора, как ответ на это задание "
   ]
  },
  {
   "cell_type": "code",
   "execution_count": 64,
   "metadata": {},
   "outputs": [
    {
     "output_type": "stream",
     "name": "stdout",
     "text": "835329.txt\n344063.txt\n194307.txt\n195211.txt\n769171.txt\n153554.txt\n680916.txt\n335636.txt\n935728.txt\n081303.txt\n792633.txt\n668368.txt\n647731.txt\n904392.txt\n684563.txt\n997337.txt\n329467.txt\n366219.txt\n730037.txt\n310230.txt\n104249.txt\n382504.txt\n433681.txt\n507359.txt\n293649.txt\n011641.txt\n717942.txt\n258080.txt\n569395.txt\n756825.txt\n921388.txt\n437007.txt\n004090.txt\n362705.txt\n145282.txt\n990216.txt\n645783.txt\n451262.txt\n193295.txt\n777343.txt\n324603.txt\n888934.txt\n138655.txt\n818396.txt\n290594.txt\n478003.txt\n276687.txt\n703763.txt\n712469.txt\n064418.txt\n246033.txt\n356768.txt\n504290.txt\n629914.txt\n062456.txt\n658472.txt\n037659.txt\n351978.txt\n523822.txt\n653493.txt\n859227.txt\n878358.txt\n944504.txt\n457602.txt\n548571.txt\n090976.txt\n965991.txt\n138128.txt\n255843.txt\n797598.txt\n640003.txt\n789435.txt\n181382.txt\n590526.txt\n430513.txt\n182774.txt\n924794.txt\n998193.txt\n770039.txt\n619504.txt\n098137.txt\n874234.txt\n476929.txt\n254654.txt\n972817.txt\n183249.txt\n231788.txt\n238807.txt\n775176.txt\n332055.txt\n971266.txt\n641342.txt\n377648.txt\n665641.txt\n120842.txt\n435728.txt\n860507.txt\n845049.txt\n103662.txt\n989375.txt\n949525.txt\n622807.txt\n441279.txt\n252484.txt\n595082.txt\n942502.txt\n544418.txt\n242071.txt\n696203.txt\n470997.txt\n858079.txt\n299971.txt\n474312.txt\n202815.txt\n192361.txt\n036087.txt\n208836.txt\n057270.txt\n414940.txt\n685551.txt\n877276.txt\n183839.txt\n681194.txt\n268115.txt\n850395.txt\n841311.txt\n318124.txt\n502298.txt\n870820.txt\n886554.txt\n874723.txt\n785247.txt\n743951.txt\n893121.txt\n493592.txt\n043302.txt\n512901.txt\n455422.txt\n405792.txt\n223561.txt\n711048.txt\n986818.txt\n919305.txt\n673023.txt\n195915.txt\n113918.txt\n829948.txt\n407495.txt\n799448.txt\n455591.txt\n046533.txt\n895838.txt\n203749.txt\n897513.txt\n023903.txt\n639854.txt\n767954.txt\n483260.txt\n305657.txt\n113973.txt\n569665.txt\n811640.txt\n627996.txt\n555691.txt\n126531.txt\n434239.txt\n812997.txt\n012540.txt\n457171.txt\n809767.txt\n113083.txt\n168190.txt\n105218.txt\n426930.txt\n839383.txt\n318610.txt\n727580.txt\n966169.txt\n633699.txt\n933699.txt\n254907.txt\n277257.txt\n105289.txt\n618947.txt\n788422.txt\n598850.txt\n218724.txt\n855788.txt\n414896.txt\n086361.txt\n259720.txt\n864746.txt\n213015.txt\n706951.txt\n790699.txt\n556965.txt\n843911.txt\n824452.txt\n558623.txt\n299517.txt\n204151.txt\n864178.txt\n001410.txt\n268784.txt\n413917.txt\n258819.txt\n694433.txt\n376424.txt\n198564.txt\n228068.txt\n417050.txt\n453058.txt\n182986.txt\n237570.txt\n680981.txt\n865546.txt\n367559.txt\n122687.txt\n783680.txt\n626200.txt\n953943.txt\n009102.txt\n882919.txt\n984198.txt\n867571.txt\n889641.txt\n223919.txt\n748056.txt\n577611.txt\n749540.txt\n536080.txt\n351770.txt\n968708.txt\n311090.txt\n239129.txt\n312237.txt\n053569.txt\n678528.txt\n767429.txt\n095729.txt\n452488.txt\n798915.txt\n426191.txt\n067336.txt\n949017.txt\n987573.txt\n843785.txt\nWe are the champions, my friends,\nAnd we'll keep on fighting 'til the end.\nWe are the champions.\nWe are the champions.\nNo time for losers\n'Cause we are the champions of the world.\n"
    }
   ],
   "source": [
    "import requests\n",
    "file_name = 'dataset_3378_3 (2).txt'\n",
    "file = os.path.join('C:/Users/dmtry/Downloads', file_name)\n",
    "with open (file) as inf:\n",
    "    line = inf.read().strip()\n",
    "    r = requests.get(line)\n",
    "    q = requests.get('https://stepic.org/media/attachments/course67/3.6.3/'+ r.text)\n",
    "    while 'We' not in q.text:\n",
    "        q = requests.get('https://stepic.org/media/attachments/course67/3.6.3/'+ q.text)\n",
    "        print(q.text)"
   ]
  },
  {
   "cell_type": "markdown",
   "metadata": {},
   "source": [
    "# 3.7 Задачи"
   ]
  },
  {
   "cell_type": "markdown",
   "metadata": {},
   "source": [
    "## 3.7.1\n",
    "### Напишите программу, которая принимает на стандартный вход список игр футбольных команд с результатом матча и выводит на стандартный вывод сводную таблицу результатов всех матчей.\n",
    "### За победу команде начисляется 3 очка, за поражение — 0, за ничью — 1.\n",
    "### Формат ввода следующий:\n",
    "### В первой строке указано целое число _n_ — количество завершенных игр.\n",
    "### После этого идет _n_ строк, в которых записаны результаты игры в следующем формате:\n",
    "### Первая команда;Забито первой командой;Вторая команда;Забито второй командой\n",
    "### Вывод программы необходимо оформить следующим образом:\n",
    "### Команда:Всего игр Побед Ничьих Поражений Всего очков\n"
   ]
  },
  {
   "cell_type": "code",
   "execution_count": 33,
   "metadata": {
    "tags": []
   },
   "outputs": [
    {
     "output_type": "stream",
     "name": "stdout",
     "text": "sp:3 1 0 2 4 \nan:3 1 0 2 4 \nspp:1 1 0 0 3 \neng:1 0 0 1 0 \n"
    }
   ],
   "source": [
    "n = int(input())\n",
    "nn = [input() for i in range(n)]\n",
    "nn = [nn[i].split(';') for i in range (n)]\n",
    "d = dict()\n",
    "for i in range(len(nn)):\n",
    "    \n",
    "    for x in range(1, len(nn[i]), 2):\n",
    "        nn[i][x] = int(nn[i][x])\n",
    "    \n",
    "    for j in range (0, len(nn[i]), 2):\n",
    "        if nn[i][j] not in d.keys():\n",
    "            d[nn[i][j]] = [1, 0, 0, 0, 0]\n",
    "        elif nn[i][j] in d.keys():\n",
    "            d[nn[i][j]][0]+=1 \n",
    "    if nn[i][1] > nn[i][3]:\n",
    "        d[nn[i][0]][1]+=1\n",
    "        d[nn[i][0]][4]+=3\n",
    "        d[nn[i][2]][3]+=1\n",
    "    elif nn[i][1]<nn[i][3]:\n",
    "        d[nn[i][2]][1]+=1\n",
    "        d[nn[i][2]][4]+=3\n",
    "        d[nn[i][0]][3]+=1\n",
    "    elif nn[i][1] == nn[i][3]:\n",
    "        d[nn[i][0]][3]+=1\n",
    "        d[nn[i][2]][3]+=1\n",
    "        d[nn[i][0]][4]+=1\n",
    "        d[nn[i][2]][4]+=1\n",
    "for i in d:\n",
    "    print(i + \":\", end='')\n",
    "    for j in range (len(d[i])):\n",
    "        print(d[i][j],end=' ')\n",
    "    print()    "
   ]
  },
  {
   "cell_type": "markdown",
   "metadata": {},
   "source": [
    "## 3.7.2\n",
    "### Напишите программу, которая умеет шифровать и расшифровывать шифр подстановки. Программа принимает на вход две строки одинаковой длины, на первой строке записаны символы исходного алфавита, на второй строке — символы конечного алфавита, после чего идёт строка, которую нужно зашифровать переданным ключом, и ещё одна строка, которую нужно расшифровать."
   ]
  },
  {
   "cell_type": "code",
   "execution_count": 5,
   "metadata": {},
   "outputs": [],
   "source": [
    "file_name = 'wr39631.txt'\n",
    "file = os.path.join('C:\\\\Users\\\\dmtry\\\\Desktop\\\\', file_name)\n",
    "with open (file) as inf:\n",
    "    line = inf.read().split('\\n')\n",
    "line = [i.split(';') for i in line]"
   ]
  },
  {
   "cell_type": "code",
   "execution_count": 7,
   "metadata": {},
   "outputs": [],
   "source": [
    "line = [i.split(';') for i in line]"
   ]
  },
  {
   "cell_type": "code",
   "execution_count": 55,
   "metadata": {
    "tags": []
   },
   "outputs": [
    {
     "output_type": "stream",
     "name": "stdout",
     "text": "*d*%*d*#*d* \n dacabac\n"
    }
   ],
   "source": [
    "frst = input()\n",
    "scnd = input()\n",
    "shfr = dict()\n",
    "for i in range(len(frst)):\n",
    "    shfr[frst[i]] = scnd[i]\n",
    "thrd = input()\n",
    "frth = input()\n",
    "out1,out, out2 = '', [], ''\n",
    "for i in thrd:\n",
    "    if i in shfr.keys():\n",
    "        out1 += shfr[i]\n",
    "for j in frth:\n",
    "    out.append([key for key, value in shfr.items() if value == j])\n",
    "for i in out:\n",
    "    for j in i:\n",
    "        out2+=j\n",
    "print(out1, '\\n',out2)"
   ]
  },
  {
   "cell_type": "markdown",
   "metadata": {},
   "source": [
    "## 3.7.3\n",
    "### Простейшая система проверки орфографии может быть основана на использовании списка известных слов.\n",
    "### Если введённое слово не найдено в этом списке, оно помечается как \"ошибка\".\n",
    "\n",
    "### Попробуем написать подобную систему.\n",
    "\n",
    "### На вход программе первой строкой передаётся количество d известных нам слов, после чего на d строках указываются эти слова. Затем передаётся количество l строк текста для проверки, после чего l строк текста.\n",
    "\n",
    "### Выведите уникальные \"ошибки\" в произвольном порядке. Работу производите без учёта регистра."
   ]
  },
  {
   "cell_type": "code",
   "execution_count": null,
   "metadata": {},
   "outputs": [],
   "source": [
    "l = int(input())\n",
    "ll = [input().lower() for i in range(l)]\n",
    "ll = set(ll)\n",
    "out = []\n",
    "d = int(input())\n",
    "dd = [input().lower() for i in range(d)]\n",
    "dd = [dd[i].split( ) for i in range(len(dd))] \n",
    "for i in dd:\n",
    "    for j in i:\n",
    "        if j not in ll:\n",
    "            out.append(j)\n",
    "for i in set(out):\n",
    "    print (i)"
   ]
  },
  {
   "cell_type": "markdown",
   "metadata": {},
   "source": [
    "## 3.7.4\n",
    "### Группа биологов в институте биоинформатики завела себе черепашку.\n",
    "### После дрессировки черепашка научилась понимать и запоминать указания биологов следующего вида:\n",
    "### север 10\n",
    "### запад 20\n",
    "### юг 30\n",
    "### восток 40\n",
    "### где первое слово — это направление, в котором должна двигаться черепашка, а число после слова — это положительное расстояние в сантиметрах, которое должна пройти черепашка.\n",
    "\n",
    "### Но команды даются быстро, а черепашка ползёт медленно, и программисты догадались, что можно написать программу, которая определит, куда в итоге биологи приведут черепашку. Для этого программисты просят вас написать программу, которая выведет точку, в которой окажется черепашка после всех команд. Для простоты они решили считать, что движение начинается в точке (0, 0), и движение на восток увеличивает первую координату, а на север — вторую.\n",
    "\n",
    "### Программе подаётся на вход число команд nn, которые нужно выполнить черепашке, после чего nn строк с самими командами. Вывести нужно два числа в одну строку: первую и вторую координату конечной точки черепашки. Все координаты целочисленные."
   ]
  },
  {
   "cell_type": "code",
   "execution_count": null,
   "metadata": {},
   "outputs": [],
   "source": [
    "n = int(input())\n",
    "nn = [input().lower().split(' ') for i in range (n)]\n",
    "ways = {'север': '+', 'восток': '+', \n",
    "        'юг': '-',    'запад': '-'}\n",
    "x = 0\n",
    "y = 0\n",
    "for i in range(len(nn)):\n",
    "    if nn[i][0] == 'запад' or nn[i][0] == 'восток':\n",
    "        x += int(ways[nn[i][0]] + str (nn[i][1]))\n",
    "    if nn[i][0] == 'юг' or nn[i][0] == 'север':\n",
    "        y += int(ways[nn[i][0]] + str (nn[i][1]))\n",
    "print(x, y)"
   ]
  },
  {
   "cell_type": "markdown",
   "metadata": {
    "tags": []
   },
   "source": [
    "## 3.7.5\n",
    "### Дан файл с таблицей в формате CSV с информацией о росте школьников разных классов.\n",
    "\n",
    "### Напишите программу, которая прочитает этот файл и подсчитает для каждого класса средний рост учащегося.\n",
    "\n",
    "### Файл состоит из набора строк, каждая из которых представляет собой три поля:\n",
    "### Класс Фамилия Рост\n",
    "\n",
    "### Класс обозначается только числом. Буквенные модификаторы не используются. Номер класса может быть от 1 до 11 включительно. В фамилии нет пробелов, а в качестве роста используется натуральное число, но при подсчёте среднего требуется вычислить значение в виде вещественного числа.\n",
    "\n",
    "### Выводить информацию о среднем росте следует в порядке возрастания номера класса (для классов с первого по одиннадцатый). Если про какой-то класс нет информации, необходимо вывести напротив него прочерк"
   ]
  },
  {
   "cell_type": "code",
   "execution_count": null,
   "metadata": {},
   "outputs": [],
   "source": [
    "from statistics import mean\n",
    "with open ('C:/Users/dmtry/Desktop/dataset_3380_5.txt','r') as inf:\n",
    "    lines = inf.read().split('\\n')\n",
    "    lines = [i.split('\\t') for i in lines]\n",
    "    lines.remove(lines[-1])\n",
    "    classes = {str(x): [] for x in range(1, 12)}\n",
    "    for i in range(len(lines)):\n",
    "        if lines[i][0] in classes.keys() :\n",
    "            classes[lines[i][0]].append(int(lines[i][2]))\n",
    "    for i in classes.keys():\n",
    "        try:\n",
    "            print(i, float(mean(classes[i])))\n",
    "        except ValueError:\n",
    "            print (i+'-')"
   ]
  }
 ],
 "metadata": {
  "language_info": {
   "codemirror_mode": {
    "name": "ipython",
    "version": 3
   },
   "file_extension": ".py",
   "mimetype": "text/x-python",
   "name": "python",
   "nbconvert_exporter": "python",
   "pygments_lexer": "ipython3",
   "version": "3.7.7-final"
  },
  "orig_nbformat": 2,
  "kernelspec": {
   "name": "python3",
   "display_name": "Python 3"
  }
 },
 "nbformat": 4,
 "nbformat_minor": 2
}